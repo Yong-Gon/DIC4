{
 "cells": [
  {
   "cell_type": "code",
   "execution_count": 236,
   "id": "58fc2e59-c58c-4282-956a-14bedab23fd1",
   "metadata": {},
   "outputs": [],
   "source": [
    "import pandas as pd\n",
    "import numpy as np\n",
    "from datetime import datetime\n",
    "from matplotlib import pyplot as plt\n",
    "import seaborn as sns"
   ]
  },
  {
   "cell_type": "code",
   "execution_count": 237,
   "id": "77d54c19-1b6e-49e1-bcc7-aafd75b00ace",
   "metadata": {},
   "outputs": [],
   "source": [
    "import warnings\n",
    "warnings.filterwarnings('ignore')"
   ]
  },
  {
   "cell_type": "code",
   "execution_count": 238,
   "id": "91c284df-5bb3-47c5-b709-95e7500c0411",
   "metadata": {},
   "outputs": [],
   "source": [
    "df = pd.read_csv('/home2/jupyter-s.kim/study/DIC/project/230302_stable.csv', parse_dates=['reg_date'])"
   ]
  },
  {
   "cell_type": "code",
   "execution_count": 239,
   "id": "b6bccc53-20b5-40d6-b00f-b5dc1c5feade",
   "metadata": {},
   "outputs": [
    {
     "data": {
      "text/plain": [
       "Index(['PDA', '1C', '10A', '100A', '1000M', 'B-5', '100M', 'A-4', '10C',\n",
       "       '1000B', 'B-4', 'PE-5', 'PE-6', 'Mo-4', 'M-2', '10M', '100B', 'PE-4',\n",
       "       'En-5', '1A', 'A-5', 'M-3', '10B', 'B-6', 'Mo-3', 'C-1', 'A-3', 'M-4',\n",
       "       'C0', 'Mo-2', 'En-6'],\n",
       "      dtype='object')"
      ]
     },
     "execution_count": 239,
     "metadata": {},
     "output_type": "execute_result"
    }
   ],
   "source": [
    "df['label'].value_counts().index"
   ]
  },
  {
   "cell_type": "code",
   "execution_count": 240,
   "id": "e92550cb-ab57-499c-a350-32afee794882",
   "metadata": {},
   "outputs": [],
   "source": [
    "target_labels = ['1A', '10A', '100A', '1C', '10C', '10B', '100B','1000B', '10M', '100M', '1000M']\n",
    "# target_labels = ['안정화', '1C', '10A', '100A', '1000M', 'PDA', '100M', '1000B', '10C','10M', '100B', '1A', '10B']\n",
    "taget_labels_test = ['100A', '10A', '1A', '100B', '10B', '10C', '1000M', '100M', '10M']"
   ]
  },
  {
   "cell_type": "code",
   "execution_count": 241,
   "id": "4aac69c0-08dd-487d-b02f-441efe3ecd0d",
   "metadata": {},
   "outputs": [
    {
     "data": {
      "text/html": [
       "<div>\n",
       "<style scoped>\n",
       "    .dataframe tbody tr th:only-of-type {\n",
       "        vertical-align: middle;\n",
       "    }\n",
       "\n",
       "    .dataframe tbody tr th {\n",
       "        vertical-align: top;\n",
       "    }\n",
       "\n",
       "    .dataframe thead th {\n",
       "        text-align: right;\n",
       "    }\n",
       "</style>\n",
       "<table border=\"1\" class=\"dataframe\">\n",
       "  <thead>\n",
       "    <tr style=\"text-align: right;\">\n",
       "      <th></th>\n",
       "      <th>Unnamed: 0</th>\n",
       "      <th>C7H8</th>\n",
       "      <th>TMA</th>\n",
       "      <th>VOC</th>\n",
       "      <th>CO2</th>\n",
       "      <th>HCHO</th>\n",
       "      <th>H2S</th>\n",
       "      <th>NH3</th>\n",
       "      <th>CH3SH</th>\n",
       "      <th>SO2</th>\n",
       "      <th>NO2</th>\n",
       "      <th>CO</th>\n",
       "    </tr>\n",
       "  </thead>\n",
       "  <tbody>\n",
       "    <tr>\n",
       "      <th>count</th>\n",
       "      <td>2942.000000</td>\n",
       "      <td>2942.000000</td>\n",
       "      <td>2942.000000</td>\n",
       "      <td>2942.000000</td>\n",
       "      <td>2942.000000</td>\n",
       "      <td>2.942000e+03</td>\n",
       "      <td>2942.000000</td>\n",
       "      <td>2942.000000</td>\n",
       "      <td>2942.000000</td>\n",
       "      <td>2942.000000</td>\n",
       "      <td>2942.000000</td>\n",
       "      <td>2942.000000</td>\n",
       "    </tr>\n",
       "    <tr>\n",
       "      <th>mean</th>\n",
       "      <td>739.976547</td>\n",
       "      <td>0.020856</td>\n",
       "      <td>0.003552</td>\n",
       "      <td>0.548978</td>\n",
       "      <td>638.235886</td>\n",
       "      <td>8.932158e-02</td>\n",
       "      <td>0.086215</td>\n",
       "      <td>0.372575</td>\n",
       "      <td>0.063859</td>\n",
       "      <td>0.037211</td>\n",
       "      <td>0.071137</td>\n",
       "      <td>1.065113</td>\n",
       "    </tr>\n",
       "    <tr>\n",
       "      <th>std</th>\n",
       "      <td>433.219952</td>\n",
       "      <td>0.044410</td>\n",
       "      <td>0.009522</td>\n",
       "      <td>0.552559</td>\n",
       "      <td>481.463070</td>\n",
       "      <td>5.512116e-02</td>\n",
       "      <td>0.043526</td>\n",
       "      <td>1.684381</td>\n",
       "      <td>0.036374</td>\n",
       "      <td>0.017600</td>\n",
       "      <td>0.089446</td>\n",
       "      <td>0.558316</td>\n",
       "    </tr>\n",
       "    <tr>\n",
       "      <th>min</th>\n",
       "      <td>0.000000</td>\n",
       "      <td>0.001470</td>\n",
       "      <td>0.000000</td>\n",
       "      <td>0.188956</td>\n",
       "      <td>194.389700</td>\n",
       "      <td>1.278970e-07</td>\n",
       "      <td>0.008557</td>\n",
       "      <td>0.000000</td>\n",
       "      <td>0.000000</td>\n",
       "      <td>0.000000</td>\n",
       "      <td>0.000000</td>\n",
       "      <td>0.096095</td>\n",
       "    </tr>\n",
       "    <tr>\n",
       "      <th>25%</th>\n",
       "      <td>367.250000</td>\n",
       "      <td>0.003235</td>\n",
       "      <td>0.000005</td>\n",
       "      <td>0.259832</td>\n",
       "      <td>356.649700</td>\n",
       "      <td>4.630689e-02</td>\n",
       "      <td>0.052502</td>\n",
       "      <td>0.000000</td>\n",
       "      <td>0.045068</td>\n",
       "      <td>0.024843</td>\n",
       "      <td>0.000000</td>\n",
       "      <td>0.683374</td>\n",
       "    </tr>\n",
       "    <tr>\n",
       "      <th>50%</th>\n",
       "      <td>735.000000</td>\n",
       "      <td>0.006763</td>\n",
       "      <td>0.000047</td>\n",
       "      <td>0.394718</td>\n",
       "      <td>447.921200</td>\n",
       "      <td>7.110202e-02</td>\n",
       "      <td>0.082954</td>\n",
       "      <td>0.000000</td>\n",
       "      <td>0.068056</td>\n",
       "      <td>0.034780</td>\n",
       "      <td>0.023998</td>\n",
       "      <td>0.848001</td>\n",
       "    </tr>\n",
       "    <tr>\n",
       "      <th>75%</th>\n",
       "      <td>1102.750000</td>\n",
       "      <td>0.010515</td>\n",
       "      <td>0.001017</td>\n",
       "      <td>0.530885</td>\n",
       "      <td>660.887400</td>\n",
       "      <td>1.410472e-01</td>\n",
       "      <td>0.111096</td>\n",
       "      <td>0.000000</td>\n",
       "      <td>0.092952</td>\n",
       "      <td>0.050174</td>\n",
       "      <td>0.140558</td>\n",
       "      <td>1.742519</td>\n",
       "    </tr>\n",
       "    <tr>\n",
       "      <th>max</th>\n",
       "      <td>1591.000000</td>\n",
       "      <td>0.221197</td>\n",
       "      <td>0.046435</td>\n",
       "      <td>3.287484</td>\n",
       "      <td>2821.118000</td>\n",
       "      <td>2.234634e-01</td>\n",
       "      <td>0.243981</td>\n",
       "      <td>10.845400</td>\n",
       "      <td>0.126048</td>\n",
       "      <td>0.089435</td>\n",
       "      <td>0.438815</td>\n",
       "      <td>2.343366</td>\n",
       "    </tr>\n",
       "  </tbody>\n",
       "</table>\n",
       "</div>"
      ],
      "text/plain": [
       "        Unnamed: 0         C7H8          TMA          VOC          CO2  \\\n",
       "count  2942.000000  2942.000000  2942.000000  2942.000000  2942.000000   \n",
       "mean    739.976547     0.020856     0.003552     0.548978   638.235886   \n",
       "std     433.219952     0.044410     0.009522     0.552559   481.463070   \n",
       "min       0.000000     0.001470     0.000000     0.188956   194.389700   \n",
       "25%     367.250000     0.003235     0.000005     0.259832   356.649700   \n",
       "50%     735.000000     0.006763     0.000047     0.394718   447.921200   \n",
       "75%    1102.750000     0.010515     0.001017     0.530885   660.887400   \n",
       "max    1591.000000     0.221197     0.046435     3.287484  2821.118000   \n",
       "\n",
       "               HCHO          H2S          NH3        CH3SH          SO2  \\\n",
       "count  2.942000e+03  2942.000000  2942.000000  2942.000000  2942.000000   \n",
       "mean   8.932158e-02     0.086215     0.372575     0.063859     0.037211   \n",
       "std    5.512116e-02     0.043526     1.684381     0.036374     0.017600   \n",
       "min    1.278970e-07     0.008557     0.000000     0.000000     0.000000   \n",
       "25%    4.630689e-02     0.052502     0.000000     0.045068     0.024843   \n",
       "50%    7.110202e-02     0.082954     0.000000     0.068056     0.034780   \n",
       "75%    1.410472e-01     0.111096     0.000000     0.092952     0.050174   \n",
       "max    2.234634e-01     0.243981    10.845400     0.126048     0.089435   \n",
       "\n",
       "               NO2           CO  \n",
       "count  2942.000000  2942.000000  \n",
       "mean      0.071137     1.065113  \n",
       "std       0.089446     0.558316  \n",
       "min       0.000000     0.096095  \n",
       "25%       0.000000     0.683374  \n",
       "50%       0.023998     0.848001  \n",
       "75%       0.140558     1.742519  \n",
       "max       0.438815     2.343366  "
      ]
     },
     "execution_count": 241,
     "metadata": {},
     "output_type": "execute_result"
    }
   ],
   "source": [
    "df.describe()"
   ]
  },
  {
   "cell_type": "code",
   "execution_count": 242,
   "id": "4fa69e22-c2ae-4990-98e1-8c8a40c3d3b3",
   "metadata": {},
   "outputs": [],
   "source": [
    "df['label'].replace({'A-3':'100A', 'A-4':'10A', 'A-5':'1A', 'C0':'100C', 'C-1':'10C',\n",
    "                     'B-4':'100B','B-5':'10B','B-6':'1B','M-2':'1000M','M-3':'100M','M-4':'10M'}, inplace=True)"
   ]
  },
  {
   "cell_type": "code",
   "execution_count": 243,
   "id": "cf52ce41-bf3f-4a38-9937-8eb91cddaabf",
   "metadata": {},
   "outputs": [],
   "source": [
    "# df = df.loc[np.isin(df['label'],target_labels)].reset_index(drop=True)\n",
    "df = df.loc[np.isin(df['label'],taget_labels_test)].reset_index(drop=True)"
   ]
  },
  {
   "cell_type": "code",
   "execution_count": 244,
   "id": "15bdc78e-523d-42dc-bbc4-0cbd5de48568",
   "metadata": {},
   "outputs": [
    {
     "data": {
      "text/plain": [
       "1615"
      ]
     },
     "execution_count": 244,
     "metadata": {},
     "output_type": "execute_result"
    }
   ],
   "source": [
    "len(df)"
   ]
  },
  {
   "cell_type": "code",
   "execution_count": 245,
   "id": "dbace277-3e96-4106-a29f-0714a4c8678b",
   "metadata": {},
   "outputs": [
    {
     "data": {
      "text/html": [
       "<div>\n",
       "<style scoped>\n",
       "    .dataframe tbody tr th:only-of-type {\n",
       "        vertical-align: middle;\n",
       "    }\n",
       "\n",
       "    .dataframe tbody tr th {\n",
       "        vertical-align: top;\n",
       "    }\n",
       "\n",
       "    .dataframe thead th {\n",
       "        text-align: right;\n",
       "    }\n",
       "</style>\n",
       "<table border=\"1\" class=\"dataframe\">\n",
       "  <thead>\n",
       "    <tr style=\"text-align: right;\">\n",
       "      <th></th>\n",
       "      <th>Unnamed: 0</th>\n",
       "      <th>reg_date</th>\n",
       "      <th>C7H8</th>\n",
       "      <th>TMA</th>\n",
       "      <th>VOC</th>\n",
       "      <th>CO2</th>\n",
       "      <th>HCHO</th>\n",
       "      <th>H2S</th>\n",
       "      <th>NH3</th>\n",
       "      <th>CH3SH</th>\n",
       "      <th>SO2</th>\n",
       "      <th>NO2</th>\n",
       "      <th>CO</th>\n",
       "      <th>label</th>\n",
       "      <th>label2</th>\n",
       "    </tr>\n",
       "  </thead>\n",
       "  <tbody>\n",
       "    <tr>\n",
       "      <th>0</th>\n",
       "      <td>104</td>\n",
       "      <td>2023-02-15 10:08:04</td>\n",
       "      <td>0.006729</td>\n",
       "      <td>0.000765</td>\n",
       "      <td>0.218334</td>\n",
       "      <td>366.7911</td>\n",
       "      <td>0.064331</td>\n",
       "      <td>0.115484</td>\n",
       "      <td>0.0</td>\n",
       "      <td>0.0</td>\n",
       "      <td>0.008281</td>\n",
       "      <td>0.257118</td>\n",
       "      <td>0.813704</td>\n",
       "      <td>1A</td>\n",
       "      <td>A</td>\n",
       "    </tr>\n",
       "    <tr>\n",
       "      <th>1</th>\n",
       "      <td>105</td>\n",
       "      <td>2023-02-15 10:08:05</td>\n",
       "      <td>0.006729</td>\n",
       "      <td>0.000762</td>\n",
       "      <td>0.203253</td>\n",
       "      <td>369.3264</td>\n",
       "      <td>0.069992</td>\n",
       "      <td>0.115484</td>\n",
       "      <td>0.0</td>\n",
       "      <td>0.0</td>\n",
       "      <td>0.023187</td>\n",
       "      <td>0.253690</td>\n",
       "      <td>0.827423</td>\n",
       "      <td>1A</td>\n",
       "      <td>A</td>\n",
       "    </tr>\n",
       "    <tr>\n",
       "      <th>2</th>\n",
       "      <td>106</td>\n",
       "      <td>2023-02-15 10:08:07</td>\n",
       "      <td>0.006729</td>\n",
       "      <td>0.000763</td>\n",
       "      <td>0.218334</td>\n",
       "      <td>366.7911</td>\n",
       "      <td>0.076759</td>\n",
       "      <td>0.112231</td>\n",
       "      <td>0.0</td>\n",
       "      <td>0.0</td>\n",
       "      <td>0.018218</td>\n",
       "      <td>0.257118</td>\n",
       "      <td>0.806844</td>\n",
       "      <td>1A</td>\n",
       "      <td>A</td>\n",
       "    </tr>\n",
       "    <tr>\n",
       "      <th>3</th>\n",
       "      <td>107</td>\n",
       "      <td>2023-02-15 10:08:08</td>\n",
       "      <td>0.006729</td>\n",
       "      <td>0.000762</td>\n",
       "      <td>0.216803</td>\n",
       "      <td>366.7911</td>\n",
       "      <td>0.069992</td>\n",
       "      <td>0.115484</td>\n",
       "      <td>0.0</td>\n",
       "      <td>0.0</td>\n",
       "      <td>0.014906</td>\n",
       "      <td>0.257118</td>\n",
       "      <td>0.902877</td>\n",
       "      <td>1A</td>\n",
       "      <td>A</td>\n",
       "    </tr>\n",
       "    <tr>\n",
       "      <th>4</th>\n",
       "      <td>108</td>\n",
       "      <td>2023-02-15 10:08:10</td>\n",
       "      <td>0.006729</td>\n",
       "      <td>0.000760</td>\n",
       "      <td>0.216803</td>\n",
       "      <td>370.3987</td>\n",
       "      <td>0.069992</td>\n",
       "      <td>0.105725</td>\n",
       "      <td>0.0</td>\n",
       "      <td>0.0</td>\n",
       "      <td>0.018218</td>\n",
       "      <td>0.257118</td>\n",
       "      <td>0.861720</td>\n",
       "      <td>1A</td>\n",
       "      <td>A</td>\n",
       "    </tr>\n",
       "  </tbody>\n",
       "</table>\n",
       "</div>"
      ],
      "text/plain": [
       "   Unnamed: 0            reg_date      C7H8       TMA       VOC       CO2  \\\n",
       "0         104 2023-02-15 10:08:04  0.006729  0.000765  0.218334  366.7911   \n",
       "1         105 2023-02-15 10:08:05  0.006729  0.000762  0.203253  369.3264   \n",
       "2         106 2023-02-15 10:08:07  0.006729  0.000763  0.218334  366.7911   \n",
       "3         107 2023-02-15 10:08:08  0.006729  0.000762  0.216803  366.7911   \n",
       "4         108 2023-02-15 10:08:10  0.006729  0.000760  0.216803  370.3987   \n",
       "\n",
       "       HCHO       H2S  NH3  CH3SH       SO2       NO2        CO label label2  \n",
       "0  0.064331  0.115484  0.0    0.0  0.008281  0.257118  0.813704    1A      A  \n",
       "1  0.069992  0.115484  0.0    0.0  0.023187  0.253690  0.827423    1A      A  \n",
       "2  0.076759  0.112231  0.0    0.0  0.018218  0.257118  0.806844    1A      A  \n",
       "3  0.069992  0.115484  0.0    0.0  0.014906  0.257118  0.902877    1A      A  \n",
       "4  0.069992  0.105725  0.0    0.0  0.018218  0.257118  0.861720    1A      A  "
      ]
     },
     "execution_count": 245,
     "metadata": {},
     "output_type": "execute_result"
    }
   ],
   "source": [
    "df.head()"
   ]
  },
  {
   "cell_type": "code",
   "execution_count": 134,
   "id": "afafa941-0ac5-477e-ab1f-b47f7687d9fb",
   "metadata": {},
   "outputs": [],
   "source": [
    "df_raw = df.drop(['Unnamed: 0', 'reg_date', 'label2'], axis='columns')\n",
    "df_raw.to_csv('concat.csv',index=False)"
   ]
  },
  {
   "cell_type": "code",
   "execution_count": 135,
   "id": "3fc082c8-d6ab-4ba2-9b65-a07fe8f57893",
   "metadata": {},
   "outputs": [
    {
     "data": {
      "text/html": [
       "<div>\n",
       "<style scoped>\n",
       "    .dataframe tbody tr th:only-of-type {\n",
       "        vertical-align: middle;\n",
       "    }\n",
       "\n",
       "    .dataframe tbody tr th {\n",
       "        vertical-align: top;\n",
       "    }\n",
       "\n",
       "    .dataframe thead th {\n",
       "        text-align: right;\n",
       "    }\n",
       "</style>\n",
       "<table border=\"1\" class=\"dataframe\">\n",
       "  <thead>\n",
       "    <tr style=\"text-align: right;\">\n",
       "      <th></th>\n",
       "      <th>C7H8</th>\n",
       "      <th>TMA</th>\n",
       "      <th>VOC</th>\n",
       "      <th>CO2</th>\n",
       "      <th>HCHO</th>\n",
       "      <th>H2S</th>\n",
       "      <th>NH3</th>\n",
       "      <th>CH3SH</th>\n",
       "      <th>SO2</th>\n",
       "      <th>NO2</th>\n",
       "      <th>CO</th>\n",
       "    </tr>\n",
       "    <tr>\n",
       "      <th>label</th>\n",
       "      <th></th>\n",
       "      <th></th>\n",
       "      <th></th>\n",
       "      <th></th>\n",
       "      <th></th>\n",
       "      <th></th>\n",
       "      <th></th>\n",
       "      <th></th>\n",
       "      <th></th>\n",
       "      <th></th>\n",
       "      <th></th>\n",
       "    </tr>\n",
       "  </thead>\n",
       "  <tbody>\n",
       "    <tr>\n",
       "      <th>1000M</th>\n",
       "      <td>0.011161</td>\n",
       "      <td>0.002053</td>\n",
       "      <td>0.468132</td>\n",
       "      <td>493.300188</td>\n",
       "      <td>0.144223</td>\n",
       "      <td>0.100421</td>\n",
       "      <td>0.059227</td>\n",
       "      <td>0.078009</td>\n",
       "      <td>0.038440</td>\n",
       "      <td>0.000000</td>\n",
       "      <td>1.217600</td>\n",
       "    </tr>\n",
       "    <tr>\n",
       "      <th>100A</th>\n",
       "      <td>0.005325</td>\n",
       "      <td>0.000601</td>\n",
       "      <td>0.214386</td>\n",
       "      <td>765.573244</td>\n",
       "      <td>0.096539</td>\n",
       "      <td>0.074983</td>\n",
       "      <td>0.000000</td>\n",
       "      <td>0.019997</td>\n",
       "      <td>0.028837</td>\n",
       "      <td>0.144023</td>\n",
       "      <td>0.994022</td>\n",
       "    </tr>\n",
       "    <tr>\n",
       "      <th>100B</th>\n",
       "      <td>0.091529</td>\n",
       "      <td>0.013355</td>\n",
       "      <td>1.339261</td>\n",
       "      <td>920.915884</td>\n",
       "      <td>0.115011</td>\n",
       "      <td>0.079957</td>\n",
       "      <td>1.039992</td>\n",
       "      <td>0.087468</td>\n",
       "      <td>0.038580</td>\n",
       "      <td>0.000000</td>\n",
       "      <td>1.569849</td>\n",
       "    </tr>\n",
       "    <tr>\n",
       "      <th>100M</th>\n",
       "      <td>0.007881</td>\n",
       "      <td>0.002017</td>\n",
       "      <td>0.512019</td>\n",
       "      <td>400.444353</td>\n",
       "      <td>0.120334</td>\n",
       "      <td>0.137157</td>\n",
       "      <td>0.004235</td>\n",
       "      <td>0.071878</td>\n",
       "      <td>0.035458</td>\n",
       "      <td>0.001605</td>\n",
       "      <td>1.302469</td>\n",
       "    </tr>\n",
       "    <tr>\n",
       "      <th>10A</th>\n",
       "      <td>0.004804</td>\n",
       "      <td>0.000473</td>\n",
       "      <td>0.261437</td>\n",
       "      <td>695.549721</td>\n",
       "      <td>0.080056</td>\n",
       "      <td>0.064799</td>\n",
       "      <td>0.000000</td>\n",
       "      <td>0.037636</td>\n",
       "      <td>0.032986</td>\n",
       "      <td>0.126363</td>\n",
       "      <td>0.854050</td>\n",
       "    </tr>\n",
       "    <tr>\n",
       "      <th>10B</th>\n",
       "      <td>0.043786</td>\n",
       "      <td>0.007131</td>\n",
       "      <td>0.826820</td>\n",
       "      <td>885.619423</td>\n",
       "      <td>0.104655</td>\n",
       "      <td>0.110853</td>\n",
       "      <td>0.025308</td>\n",
       "      <td>0.083069</td>\n",
       "      <td>0.036697</td>\n",
       "      <td>0.000000</td>\n",
       "      <td>1.617957</td>\n",
       "    </tr>\n",
       "    <tr>\n",
       "      <th>10C</th>\n",
       "      <td>0.005574</td>\n",
       "      <td>0.000652</td>\n",
       "      <td>0.332247</td>\n",
       "      <td>624.206707</td>\n",
       "      <td>0.127532</td>\n",
       "      <td>0.075271</td>\n",
       "      <td>0.000000</td>\n",
       "      <td>0.068742</td>\n",
       "      <td>0.038112</td>\n",
       "      <td>0.089975</td>\n",
       "      <td>1.044796</td>\n",
       "    </tr>\n",
       "    <tr>\n",
       "      <th>10M</th>\n",
       "      <td>0.007999</td>\n",
       "      <td>0.002156</td>\n",
       "      <td>0.590631</td>\n",
       "      <td>302.785749</td>\n",
       "      <td>0.118346</td>\n",
       "      <td>0.092099</td>\n",
       "      <td>0.000000</td>\n",
       "      <td>0.071131</td>\n",
       "      <td>0.041936</td>\n",
       "      <td>0.006568</td>\n",
       "      <td>1.082010</td>\n",
       "    </tr>\n",
       "    <tr>\n",
       "      <th>1A</th>\n",
       "      <td>0.004607</td>\n",
       "      <td>0.000370</td>\n",
       "      <td>0.233926</td>\n",
       "      <td>339.310314</td>\n",
       "      <td>0.058487</td>\n",
       "      <td>0.077910</td>\n",
       "      <td>0.000000</td>\n",
       "      <td>0.050741</td>\n",
       "      <td>0.039596</td>\n",
       "      <td>0.159705</td>\n",
       "      <td>0.839923</td>\n",
       "    </tr>\n",
       "  </tbody>\n",
       "</table>\n",
       "</div>"
      ],
      "text/plain": [
       "           C7H8       TMA       VOC         CO2      HCHO       H2S       NH3  \\\n",
       "label                                                                           \n",
       "1000M  0.011161  0.002053  0.468132  493.300188  0.144223  0.100421  0.059227   \n",
       "100A   0.005325  0.000601  0.214386  765.573244  0.096539  0.074983  0.000000   \n",
       "100B   0.091529  0.013355  1.339261  920.915884  0.115011  0.079957  1.039992   \n",
       "100M   0.007881  0.002017  0.512019  400.444353  0.120334  0.137157  0.004235   \n",
       "10A    0.004804  0.000473  0.261437  695.549721  0.080056  0.064799  0.000000   \n",
       "10B    0.043786  0.007131  0.826820  885.619423  0.104655  0.110853  0.025308   \n",
       "10C    0.005574  0.000652  0.332247  624.206707  0.127532  0.075271  0.000000   \n",
       "10M    0.007999  0.002156  0.590631  302.785749  0.118346  0.092099  0.000000   \n",
       "1A     0.004607  0.000370  0.233926  339.310314  0.058487  0.077910  0.000000   \n",
       "\n",
       "          CH3SH       SO2       NO2        CO  \n",
       "label                                          \n",
       "1000M  0.078009  0.038440  0.000000  1.217600  \n",
       "100A   0.019997  0.028837  0.144023  0.994022  \n",
       "100B   0.087468  0.038580  0.000000  1.569849  \n",
       "100M   0.071878  0.035458  0.001605  1.302469  \n",
       "10A    0.037636  0.032986  0.126363  0.854050  \n",
       "10B    0.083069  0.036697  0.000000  1.617957  \n",
       "10C    0.068742  0.038112  0.089975  1.044796  \n",
       "10M    0.071131  0.041936  0.006568  1.082010  \n",
       "1A     0.050741  0.039596  0.159705  0.839923  "
      ]
     },
     "execution_count": 135,
     "metadata": {},
     "output_type": "execute_result"
    }
   ],
   "source": [
    "df_raw.groupby('label').mean()"
   ]
  },
  {
   "cell_type": "code",
   "execution_count": 136,
   "id": "63e8dfd4-8d46-4a1a-ae22-9e1b1a09223d",
   "metadata": {},
   "outputs": [],
   "source": [
    "from sklearn import preprocessing\n",
    "from sklearn.model_selection import train_test_split\n",
    "from sklearn.metrics import accuracy_score, f1_score, confusion_matrix, classification_report\n",
    "from sklearn.tree import DecisionTreeClassifier\n",
    "from sklearn.tree import plot_tree"
   ]
  },
  {
   "cell_type": "code",
   "execution_count": 137,
   "id": "aa20a1f1-0030-476b-83a2-2f7ab79f24bf",
   "metadata": {},
   "outputs": [],
   "source": [
    "# Encode the labels using LabelEncoder\n",
    "le = preprocessing.LabelEncoder()\n",
    "df['label'] = le.fit_transform(df['label'])"
   ]
  },
  {
   "cell_type": "code",
   "execution_count": 143,
   "id": "89cbc186-630e-4eb5-8cff-b8c01c6f8a5c",
   "metadata": {},
   "outputs": [],
   "source": [
    "encoding_numbers = list(range(0,len(le.classes_)))"
   ]
  },
  {
   "cell_type": "code",
   "execution_count": 144,
   "id": "12557cf5-7339-4193-a535-2d436d47c654",
   "metadata": {},
   "outputs": [
    {
     "name": "stdout",
     "output_type": "stream",
     "text": [
      "{0: '1000M', 1: '100A', 2: '100B', 3: '100M', 4: '10A', 5: '10B', 6: '10C', 7: '10M', 8: '1A'}\n"
     ]
    }
   ],
   "source": [
    "d = dict(zip(encoding_numbers, le.inverse_transform(encoding_numbers)))\n",
    "print(d)"
   ]
  },
  {
   "cell_type": "code",
   "execution_count": 246,
   "id": "eccc093c-8c68-411d-bd8a-12838e6ee027",
   "metadata": {},
   "outputs": [],
   "source": [
    "df.loc[(df['reg_date']<datetime(2023,2,27)),'experiment'] = 1\n",
    "df.loc[(df['reg_date']>=datetime(2023,2,27)),'experiment'] = 2"
   ]
  },
  {
   "cell_type": "code",
   "execution_count": 248,
   "id": "4f334987-4c7e-4ed1-ab96-440e3fdf8f0c",
   "metadata": {},
   "outputs": [
    {
     "data": {
      "text/html": [
       "<div>\n",
       "<style scoped>\n",
       "    .dataframe tbody tr th:only-of-type {\n",
       "        vertical-align: middle;\n",
       "    }\n",
       "\n",
       "    .dataframe tbody tr th {\n",
       "        vertical-align: top;\n",
       "    }\n",
       "\n",
       "    .dataframe thead th {\n",
       "        text-align: right;\n",
       "    }\n",
       "</style>\n",
       "<table border=\"1\" class=\"dataframe\">\n",
       "  <thead>\n",
       "    <tr style=\"text-align: right;\">\n",
       "      <th></th>\n",
       "      <th>C7H8</th>\n",
       "      <th>TMA</th>\n",
       "      <th>VOC</th>\n",
       "      <th>CO2</th>\n",
       "      <th>HCHO</th>\n",
       "      <th>H2S</th>\n",
       "      <th>NH3</th>\n",
       "      <th>CH3SH</th>\n",
       "      <th>SO2</th>\n",
       "      <th>NO2</th>\n",
       "      <th>CO</th>\n",
       "      <th>label</th>\n",
       "      <th>experiment</th>\n",
       "    </tr>\n",
       "  </thead>\n",
       "  <tbody>\n",
       "    <tr>\n",
       "      <th>0</th>\n",
       "      <td>0.006729</td>\n",
       "      <td>0.000765</td>\n",
       "      <td>0.218334</td>\n",
       "      <td>366.7911</td>\n",
       "      <td>0.064331</td>\n",
       "      <td>0.115484</td>\n",
       "      <td>0.0</td>\n",
       "      <td>0.0</td>\n",
       "      <td>0.008281</td>\n",
       "      <td>0.257118</td>\n",
       "      <td>0.813704</td>\n",
       "      <td>1A</td>\n",
       "      <td>1.0</td>\n",
       "    </tr>\n",
       "    <tr>\n",
       "      <th>1</th>\n",
       "      <td>0.006729</td>\n",
       "      <td>0.000762</td>\n",
       "      <td>0.203253</td>\n",
       "      <td>369.3264</td>\n",
       "      <td>0.069992</td>\n",
       "      <td>0.115484</td>\n",
       "      <td>0.0</td>\n",
       "      <td>0.0</td>\n",
       "      <td>0.023187</td>\n",
       "      <td>0.253690</td>\n",
       "      <td>0.827423</td>\n",
       "      <td>1A</td>\n",
       "      <td>1.0</td>\n",
       "    </tr>\n",
       "    <tr>\n",
       "      <th>2</th>\n",
       "      <td>0.006729</td>\n",
       "      <td>0.000763</td>\n",
       "      <td>0.218334</td>\n",
       "      <td>366.7911</td>\n",
       "      <td>0.076759</td>\n",
       "      <td>0.112231</td>\n",
       "      <td>0.0</td>\n",
       "      <td>0.0</td>\n",
       "      <td>0.018218</td>\n",
       "      <td>0.257118</td>\n",
       "      <td>0.806844</td>\n",
       "      <td>1A</td>\n",
       "      <td>1.0</td>\n",
       "    </tr>\n",
       "    <tr>\n",
       "      <th>3</th>\n",
       "      <td>0.006729</td>\n",
       "      <td>0.000762</td>\n",
       "      <td>0.216803</td>\n",
       "      <td>366.7911</td>\n",
       "      <td>0.069992</td>\n",
       "      <td>0.115484</td>\n",
       "      <td>0.0</td>\n",
       "      <td>0.0</td>\n",
       "      <td>0.014906</td>\n",
       "      <td>0.257118</td>\n",
       "      <td>0.902877</td>\n",
       "      <td>1A</td>\n",
       "      <td>1.0</td>\n",
       "    </tr>\n",
       "    <tr>\n",
       "      <th>4</th>\n",
       "      <td>0.006729</td>\n",
       "      <td>0.000760</td>\n",
       "      <td>0.216803</td>\n",
       "      <td>370.3987</td>\n",
       "      <td>0.069992</td>\n",
       "      <td>0.105725</td>\n",
       "      <td>0.0</td>\n",
       "      <td>0.0</td>\n",
       "      <td>0.018218</td>\n",
       "      <td>0.257118</td>\n",
       "      <td>0.861720</td>\n",
       "      <td>1A</td>\n",
       "      <td>1.0</td>\n",
       "    </tr>\n",
       "  </tbody>\n",
       "</table>\n",
       "</div>"
      ],
      "text/plain": [
       "       C7H8       TMA       VOC       CO2      HCHO       H2S  NH3  CH3SH  \\\n",
       "0  0.006729  0.000765  0.218334  366.7911  0.064331  0.115484  0.0    0.0   \n",
       "1  0.006729  0.000762  0.203253  369.3264  0.069992  0.115484  0.0    0.0   \n",
       "2  0.006729  0.000763  0.218334  366.7911  0.076759  0.112231  0.0    0.0   \n",
       "3  0.006729  0.000762  0.216803  366.7911  0.069992  0.115484  0.0    0.0   \n",
       "4  0.006729  0.000760  0.216803  370.3987  0.069992  0.105725  0.0    0.0   \n",
       "\n",
       "        SO2       NO2        CO label  experiment  \n",
       "0  0.008281  0.257118  0.813704    1A         1.0  \n",
       "1  0.023187  0.253690  0.827423    1A         1.0  \n",
       "2  0.018218  0.257118  0.806844    1A         1.0  \n",
       "3  0.014906  0.257118  0.902877    1A         1.0  \n",
       "4  0.018218  0.257118  0.861720    1A         1.0  "
      ]
     },
     "execution_count": 248,
     "metadata": {},
     "output_type": "execute_result"
    }
   ],
   "source": [
    "df.drop(['Unnamed: 0', 'reg_date', 'label2'], axis='columns', inplace=True)\n",
    "df.head()"
   ]
  },
  {
   "cell_type": "code",
   "execution_count": 249,
   "id": "01590ad8-d7ee-438a-b631-a2677d8f3e96",
   "metadata": {},
   "outputs": [],
   "source": [
    "df.to_csv('data_with_exp.csv',index=False)"
   ]
  },
  {
   "cell_type": "code",
   "execution_count": 139,
   "id": "4abf69bf-5a9a-442c-ae87-3c7852baa88b",
   "metadata": {},
   "outputs": [],
   "source": [
    "train = df[df['reg_date']<datetime(2023,2,27)]\n",
    "test = df[df['reg_date']>=datetime(2023,2,27)]"
   ]
  },
  {
   "cell_type": "code",
   "execution_count": 140,
   "id": "fb6d2711-be8c-4ccb-abd2-264f9753b545",
   "metadata": {},
   "outputs": [
    {
     "data": {
      "text/plain": [
       "(908, 707)"
      ]
     },
     "execution_count": 140,
     "metadata": {},
     "output_type": "execute_result"
    }
   ],
   "source": [
    "len(train), len(test)"
   ]
  },
  {
   "cell_type": "code",
   "execution_count": 145,
   "id": "4da7f766-e5d4-4818-b7bc-8908342c49d6",
   "metadata": {},
   "outputs": [],
   "source": [
    "train.drop(['Unnamed: 0', 'reg_date', 'label2'], axis='columns', inplace=True)\n",
    "test.drop(['Unnamed: 0', 'reg_date', 'label2'], axis='columns', inplace=True)"
   ]
  },
  {
   "cell_type": "code",
   "execution_count": 146,
   "id": "1292b5af-387e-4cb1-af23-23ce819333a3",
   "metadata": {},
   "outputs": [],
   "source": [
    "# Split the df into training and testing sets\n",
    "X = train.drop('label', axis=1)\n",
    "y = train['label']\n",
    "X_train, X_valid, y_train, y_valid = train_test_split(X, y, test_size=0.3, random_state=55, stratify=y)"
   ]
  },
  {
   "cell_type": "code",
   "execution_count": 147,
   "id": "0e6ac529-0c8f-4ca1-93d2-d0272a6bec99",
   "metadata": {},
   "outputs": [
    {
     "data": {
      "image/png": "[encoded data removed]",
      "text/plain": [
       "<Figure size 288x360 with 1 Axes>"
      ]
     },
     "metadata": {
      "needs_background": "light"
     },
     "output_type": "display_data"
    }
   ],
   "source": [
    "plt.figure(figsize=(4, 5))\n",
    "sns.countplot(y)\n",
    "plt.show()"
   ]
  },
  {
   "cell_type": "code",
   "execution_count": 148,
   "id": "0b4f2764-7c33-4982-99ff-0c38b90153f2",
   "metadata": {},
   "outputs": [
    {
     "name": "stdout",
     "output_type": "stream",
     "text": [
      "클래스별 데이터 개수: Train\n",
      "4    94\n",
      "1    90\n",
      "0    86\n",
      "3    72\n",
      "6    71\n",
      "2    60\n",
      "7    60\n",
      "5    51\n",
      "8    51\n",
      "Name: label, dtype: int64\n",
      "\n",
      " ----------------------- \n",
      "\n",
      "클래스별 데이터 개수: Test\n",
      "4    41\n",
      "1    38\n",
      "0    37\n",
      "3    31\n",
      "6    31\n",
      "7    26\n",
      "2    25\n",
      "5    22\n",
      "8    22\n",
      "Name: label, dtype: int64\n"
     ]
    }
   ],
   "source": [
    "print('클래스별 데이터 개수: Train')\n",
    "print(y_train.value_counts())\n",
    "\n",
    "print('\\n ----------------------- \\n')\n",
    "print('클래스별 데이터 개수: Test')\n",
    "print(y_valid.value_counts())"
   ]
  },
  {
   "cell_type": "code",
   "execution_count": 149,
   "id": "2c544326-e3d7-4ee6-8856-6f347df7c260",
   "metadata": {},
   "outputs": [
    {
     "name": "stdout",
     "output_type": "stream",
     "text": [
      "[1, 2, 3, 4, 5, 6, 7, 8, 9, None]\n"
     ]
    }
   ],
   "source": [
    "max_depths = list(range(1, 10)) + [None]\n",
    "print(max_depths)"
   ]
  },
  {
   "cell_type": "code",
   "execution_count": 150,
   "id": "8cfb2e8e-db72-4ec4-9288-c9413818ca6f",
   "metadata": {},
   "outputs": [],
   "source": [
    "# 평가 지표 저장\n",
    "acc_valid = []\n",
    "f1_valid = []"
   ]
  },
  {
   "cell_type": "code",
   "execution_count": 151,
   "id": "46d672aa-811b-4d3b-bcb6-6450383aba56",
   "metadata": {},
   "outputs": [],
   "source": [
    "for max_depth in max_depths:\n",
    "                      \n",
    "    # 모델 학습\n",
    "    model = DecisionTreeClassifier(max_depth=max_depth)\n",
    "    model.fit(X_train, y_train)\n",
    "    \n",
    "    # validation 예측\n",
    "    y_valid_pred = model.predict(X_valid)\n",
    "    \n",
    "    # 모델 평가 결과 저장\n",
    "    acc = accuracy_score(y_valid, y_valid_pred)\n",
    "    f1 = f1_score(y_valid, y_valid_pred, average='weighted')\n",
    "    \n",
    "    acc_valid.append(acc)\n",
    "    f1_valid.append(f1)"
   ]
  },
  {
   "cell_type": "code",
   "execution_count": 152,
   "id": "1cde3460-6de5-4a0b-a160-730e08237f9d",
   "metadata": {},
   "outputs": [
    {
     "name": "stdout",
     "output_type": "stream",
     "text": [
      "['1', '2', '3', '4', '5', '6', '7', '8', '9', 'None']\n"
     ]
    }
   ],
   "source": [
    "# Decision Tree depth list\n",
    "xticks = list(map(str, max_depths))\n",
    "print(xticks)"
   ]
  },
  {
   "cell_type": "code",
   "execution_count": 153,
   "id": "b3f80737-da62-4e71-8cb5-18f4a1fc37ad",
   "metadata": {},
   "outputs": [
    {
     "data": {
      "image/png": "[encoded data removed]",
      "text/plain": [
       "<Figure size 1080x432 with 2 Axes>"
      ]
     },
     "metadata": {
      "needs_background": "light"
     },
     "output_type": "display_data"
    }
   ],
   "source": [
    "# Decision Tree depth에 따른 accuracy\n",
    "fig, ax = plt.subplots(figsize=(15, 6))\n",
    "#fig.subplots_adjust(right=0.75)\n",
    "\n",
    "ax.plot(range(len(max_depths)), acc_valid, color='red', marker='o')\n",
    "ax.set_ylabel('accuracy', color='red', fontsize=12)\n",
    "\n",
    "ax2 = ax.twinx()\n",
    "ax2.plot(range(len(max_depths)), f1_valid, color='blue', marker='s')\n",
    "ax2.set_ylabel('f1', color='blue', fontsize=12)\n",
    "\n",
    "plt.xticks(range(len(max_depths)), xticks)\n",
    "plt.show()"
   ]
  },
  {
   "cell_type": "code",
   "execution_count": 154,
   "id": "e381c7c2-6866-4a0e-8a45-0ee05e8f71a7",
   "metadata": {},
   "outputs": [
    {
     "data": {
      "text/plain": [
       "DecisionTreeClassifier(max_depth=7)"
      ]
     },
     "execution_count": 154,
     "metadata": {},
     "output_type": "execute_result"
    }
   ],
   "source": [
    "model = DecisionTreeClassifier(max_depth=7)\n",
    "model.fit(X_train, y_train)"
   ]
  },
  {
   "cell_type": "code",
   "execution_count": 162,
   "id": "bfa125e0-cc53-4f61-bb77-4d9decafeea2",
   "metadata": {},
   "outputs": [
    {
     "data": {
      "text/plain": [
       "{0: '1000M',\n",
       " 1: '100A',\n",
       " 2: '100B',\n",
       " 3: '100M',\n",
       " 4: '10A',\n",
       " 5: '10B',\n",
       " 6: '10C',\n",
       " 7: '10M',\n",
       " 8: '1A'}"
      ]
     },
     "execution_count": 162,
     "metadata": {},
     "output_type": "execute_result"
    }
   ],
   "source": [
    "d"
   ]
  },
  {
   "cell_type": "code",
   "execution_count": 163,
   "id": "a9620707-27b7-4540-8e6f-dc6ce75c3b67",
   "metadata": {},
   "outputs": [
    {
     "data": {
      "text/plain": [
       "dict_values(['1000M', '100A', '100B', '100M', '10A', '10B', '10C', '10M', '1A'])"
      ]
     },
     "execution_count": 163,
     "metadata": {},
     "output_type": "execute_result"
    }
   ],
   "source": [
    "d.values()"
   ]
  },
  {
   "cell_type": "code",
   "execution_count": 155,
   "id": "2b2988b1-21f8-4809-b8fd-23ca196c6ad8",
   "metadata": {},
   "outputs": [
    {
     "name": "stdout",
     "output_type": "stream",
     "text": [
      "- Accuracy (Test) : 0.182\n",
      "- F1 score (Test) : 0.0668\n"
     ]
    }
   ],
   "source": [
    "# 에측 결과 산출\n",
    "y_test_pred = model.predict(X_test)\n",
    "\n",
    "# Confusion Matrix\n",
    "cm = confusion_matrix(y_test, y_test_pred)\n",
    "cm = pd.DataFrame(cm)\n",
    "\n",
    "# Accuracy, F1-Score\n",
    "acc = accuracy_score(y_test, y_test_pred)\n",
    "f1 = f1_score(y_test, y_test_pred, average='weighted')\n",
    "\n",
    "print('- Accuracy (Test) : {:.3}'.format(acc))\n",
    "print('- F1 score (Test) : {:.3}'.format(f1))"
   ]
  },
  {
   "cell_type": "code",
   "execution_count": 171,
   "id": "6c1dec55-438a-4219-ad78-c6bfdc2970c0",
   "metadata": {},
   "outputs": [],
   "source": [
    "cm.index = d.values()\n",
    "cm.columns = d.values()"
   ]
  },
  {
   "cell_type": "code",
   "execution_count": 172,
   "id": "fa84e285-28d8-4d5a-b9d4-e8af895b0117",
   "metadata": {},
   "outputs": [
    {
     "data": {
      "text/html": [
       "<div>\n",
       "<style scoped>\n",
       "    .dataframe tbody tr th:only-of-type {\n",
       "        vertical-align: middle;\n",
       "    }\n",
       "\n",
       "    .dataframe tbody tr th {\n",
       "        vertical-align: top;\n",
       "    }\n",
       "\n",
       "    .dataframe thead th {\n",
       "        text-align: right;\n",
       "    }\n",
       "</style>\n",
       "<table border=\"1\" class=\"dataframe\">\n",
       "  <thead>\n",
       "    <tr style=\"text-align: right;\">\n",
       "      <th></th>\n",
       "      <th>1000M</th>\n",
       "      <th>100A</th>\n",
       "      <th>100B</th>\n",
       "      <th>100M</th>\n",
       "      <th>10A</th>\n",
       "      <th>10B</th>\n",
       "      <th>10C</th>\n",
       "      <th>10M</th>\n",
       "      <th>1A</th>\n",
       "    </tr>\n",
       "  </thead>\n",
       "  <tbody>\n",
       "    <tr>\n",
       "      <th>1000M</th>\n",
       "      <td>0</td>\n",
       "      <td>0</td>\n",
       "      <td>0</td>\n",
       "      <td>48</td>\n",
       "      <td>0</td>\n",
       "      <td>0</td>\n",
       "      <td>0</td>\n",
       "      <td>0</td>\n",
       "      <td>38</td>\n",
       "    </tr>\n",
       "    <tr>\n",
       "      <th>100A</th>\n",
       "      <td>0</td>\n",
       "      <td>56</td>\n",
       "      <td>0</td>\n",
       "      <td>0</td>\n",
       "      <td>0</td>\n",
       "      <td>0</td>\n",
       "      <td>0</td>\n",
       "      <td>0</td>\n",
       "      <td>0</td>\n",
       "    </tr>\n",
       "    <tr>\n",
       "      <th>100B</th>\n",
       "      <td>0</td>\n",
       "      <td>96</td>\n",
       "      <td>0</td>\n",
       "      <td>0</td>\n",
       "      <td>0</td>\n",
       "      <td>0</td>\n",
       "      <td>0</td>\n",
       "      <td>0</td>\n",
       "      <td>0</td>\n",
       "    </tr>\n",
       "    <tr>\n",
       "      <th>100M</th>\n",
       "      <td>0</td>\n",
       "      <td>0</td>\n",
       "      <td>0</td>\n",
       "      <td>0</td>\n",
       "      <td>0</td>\n",
       "      <td>0</td>\n",
       "      <td>0</td>\n",
       "      <td>0</td>\n",
       "      <td>73</td>\n",
       "    </tr>\n",
       "    <tr>\n",
       "      <th>10A</th>\n",
       "      <td>0</td>\n",
       "      <td>103</td>\n",
       "      <td>0</td>\n",
       "      <td>0</td>\n",
       "      <td>0</td>\n",
       "      <td>0</td>\n",
       "      <td>0</td>\n",
       "      <td>0</td>\n",
       "      <td>0</td>\n",
       "    </tr>\n",
       "    <tr>\n",
       "      <th>10B</th>\n",
       "      <td>0</td>\n",
       "      <td>103</td>\n",
       "      <td>0</td>\n",
       "      <td>0</td>\n",
       "      <td>0</td>\n",
       "      <td>0</td>\n",
       "      <td>0</td>\n",
       "      <td>0</td>\n",
       "      <td>0</td>\n",
       "    </tr>\n",
       "    <tr>\n",
       "      <th>10C</th>\n",
       "      <td>0</td>\n",
       "      <td>61</td>\n",
       "      <td>0</td>\n",
       "      <td>0</td>\n",
       "      <td>0</td>\n",
       "      <td>0</td>\n",
       "      <td>0</td>\n",
       "      <td>0</td>\n",
       "      <td>0</td>\n",
       "    </tr>\n",
       "    <tr>\n",
       "      <th>10M</th>\n",
       "      <td>0</td>\n",
       "      <td>0</td>\n",
       "      <td>0</td>\n",
       "      <td>0</td>\n",
       "      <td>0</td>\n",
       "      <td>0</td>\n",
       "      <td>0</td>\n",
       "      <td>0</td>\n",
       "      <td>56</td>\n",
       "    </tr>\n",
       "    <tr>\n",
       "      <th>1A</th>\n",
       "      <td>0</td>\n",
       "      <td>0</td>\n",
       "      <td>0</td>\n",
       "      <td>0</td>\n",
       "      <td>0</td>\n",
       "      <td>0</td>\n",
       "      <td>0</td>\n",
       "      <td>0</td>\n",
       "      <td>73</td>\n",
       "    </tr>\n",
       "  </tbody>\n",
       "</table>\n",
       "</div>"
      ],
      "text/plain": [
       "       1000M  100A  100B  100M  10A  10B  10C  10M  1A\n",
       "1000M      0     0     0    48    0    0    0    0  38\n",
       "100A       0    56     0     0    0    0    0    0   0\n",
       "100B       0    96     0     0    0    0    0    0   0\n",
       "100M       0     0     0     0    0    0    0    0  73\n",
       "10A        0   103     0     0    0    0    0    0   0\n",
       "10B        0   103     0     0    0    0    0    0   0\n",
       "10C        0    61     0     0    0    0    0    0   0\n",
       "10M        0     0     0     0    0    0    0    0  56\n",
       "1A         0     0     0     0    0    0    0    0  73"
      ]
     },
     "execution_count": 172,
     "metadata": {},
     "output_type": "execute_result"
    }
   ],
   "source": [
    "cm"
   ]
  },
  {
   "cell_type": "code",
   "execution_count": 205,
   "id": "431f50b8-b21d-447c-9829-08a9a6e30915",
   "metadata": {},
   "outputs": [
    {
     "data": {
      "image/png": "[encoded data removed]",
      "text/plain": [
       "<Figure size 432x360 with 2 Axes>"
      ]
     },
     "metadata": {
      "needs_background": "light"
     },
     "output_type": "display_data"
    }
   ],
   "source": [
    "# 시각화\n",
    "plt.figure(figsize=(6, 5))\n",
    "sns.heatmap(data=cm, annot=True, annot_kws={'size': 15}, fmt='d', cmap='Blues')\n",
    "plt.xlabel('Actual class')\n",
    "plt.ylabel('Predicted class')\n",
    "plt.title('2/15 vs. 2/27. DecisionTree(max_depth=7) \\n Acc = {:.3f} & F1 = {:.3f}'.format(acc, f1))\n",
    "plt.show()"
   ]
  },
  {
   "cell_type": "code",
   "execution_count": 179,
   "id": "7389c99d-e0d7-40a4-a6a2-189af3cbaa70",
   "metadata": {},
   "outputs": [
    {
     "name": "stdout",
     "output_type": "stream",
     "text": [
      "Feature importances:\n",
      "C7H8      : 0.2679\n",
      "TMA       : 0.2554\n",
      "VOC       : 0.1562\n",
      "CO2       : 0.1183\n",
      "HCHO      : 0.1044\n",
      "H2S       : 0.0978\n",
      "NH3       : 0.0000\n",
      "CH3SH     : 0.0000\n",
      "SO2       : 0.0000\n",
      "NO2       : 0.0000\n",
      "CO        : 0.0000\n"
     ]
    }
   ],
   "source": [
    "# Get the feature importances and print them\n",
    "feature_importances = model.feature_importances_\n",
    "print(\"Feature importances:\")\n",
    "feature_importances = sorted(feature_importances, reverse=True)\n",
    "for i in range(len(feature_importances)):\n",
    "    print(\"{:<10s}: {:.4f}\".format(X.columns[i], feature_importances[i]))"
   ]
  },
  {
   "cell_type": "code",
   "execution_count": 180,
   "id": "19bdfb86-2152-4a48-95c0-766a44593230",
   "metadata": {},
   "outputs": [
    {
     "name": "stderr",
     "output_type": "stream",
     "text": [
      "findfont: Font family ['NanumGothinc'] not found. Falling back to DejaVu Sans.\n"
     ]
    },
    {
     "data": {
      "image/png": "[encoded data removed]",
      "text/plain": [
       "<Figure size 1440x720 with 1 Axes>"
      ]
     },
     "metadata": {
      "needs_background": "light"
     },
     "output_type": "display_data"
    }
   ],
   "source": [
    "plt.figure(figsize=(20, 10))\n",
    "plot_tree(decision_tree=model, filled=True)\n",
    "plt.show()"
   ]
  },
  {
   "cell_type": "code",
   "execution_count": 183,
   "id": "8f6c2ea5-1606-43df-a629-c66f74ca9aaf",
   "metadata": {},
   "outputs": [
    {
     "data": {
      "image/png": "[encoded data removed]",
      "text/plain": [
       "<Figure size 576x432 with 1 Axes>"
      ]
     },
     "metadata": {
      "needs_background": "light"
     },
     "output_type": "display_data"
    }
   ],
   "source": [
    "plt.figure(figsize=(8, 6))\n",
    "plt.title('Feature Importances')\n",
    "plt.bar(range(X.shape[1]),\n",
    "        feature_importances,\n",
    "        align='center')\n",
    "plt.xticks(range(X.shape[1]), X.columns, rotation=90)\n",
    "plt.xlim([-1, X.shape[1]])\n",
    "plt.show()"
   ]
  },
  {
   "cell_type": "code",
   "execution_count": 186,
   "id": "9a1afd93-9723-4bcd-be43-5ac64524e2cd",
   "metadata": {},
   "outputs": [
    {
     "name": "stdout",
     "output_type": "stream",
     "text": [
      "Explained variance ratio: [9.99950781e-01 4.92194441e-05]\n"
     ]
    }
   ],
   "source": [
    "from sklearn.decomposition import PCA\n",
    "\n",
    "# Create PCA object with 2 components\n",
    "pca = PCA(n_components=2)\n",
    "\n",
    "# Fit and transform the data\n",
    "X_pca = pca.fit_transform(X)\n",
    "\n",
    "# Create a new dataframe with the two primary components\n",
    "pca_df = pd.DataFrame(data=X_pca, columns=['PC1', 'PC2'])\n",
    "\n",
    "# Print the explained variance ratio\n",
    "print('Explained variance ratio:', pca.explained_variance_ratio_)"
   ]
  },
  {
   "cell_type": "code",
   "execution_count": 190,
   "id": "dd190dc4-ceaa-49de-a65b-d375bb350581",
   "metadata": {},
   "outputs": [
    {
     "data": {
      "image/png": "[encoded data removed]",
      "text/plain": [
       "<Figure size 720x504 with 1 Axes>"
      ]
     },
     "metadata": {
      "needs_background": "light"
     },
     "output_type": "display_data"
    }
   ],
   "source": [
    "plt.figure(figsize = (10,7))\n",
    "plt.scatter(pca_df['PC1'], pca_df['PC2'], c=y, s=50, cmap='rainbow')\n",
    "plt.show()"
   ]
  },
  {
   "cell_type": "code",
   "execution_count": 191,
   "id": "c3cc7448-b957-450f-859e-3d92896a80dc",
   "metadata": {},
   "outputs": [],
   "source": [
    "# Decision Tree 정의\n",
    "tree = DecisionTreeClassifier().fit(X, y)\n",
    "\n",
    "# Decision Tree 적용 결과에 대한 visualize 함수\n",
    "def visualize_classifier(model, X, y, ax=None, cmap='rainbow'):\n",
    "    \n",
    "    ax = ax or plt.gca() # or 연산자: 둘중 하나라도 True 이면, True\n",
    "    \n",
    "    # Plot the training points\n",
    "    ax.scatter(X[:, 0], X[:, 1], c=y, s=30, cmap=cmap,\n",
    "               clim=(y.min(), y.max()), zorder=3) # clim: 색상 scaling # zorder: layer 위치(값이 클수록, 위쪽에 보여짐)\n",
    "    ax.axis('tight')\n",
    "    ax.axis('off') # 축/라벨 보이지 않도록 설정\n",
    "    xlim = ax.get_xlim() # 현재 그래프의 x축 범위 설정\n",
    "    ylim = ax.get_ylim() # 현재 그래프의 y축 범위 설정\n",
    "    \n",
    "    # fit the estimator\n",
    "    model.fit(X, y)\n",
    "    xx, yy = np.meshgrid(np.linspace(*xlim, num=200), # x축 (*는 가변인자)\n",
    "                         np.linspace(*ylim, num=200)) # y축\n",
    "    Z = model.predict(np.c_[xx.ravel(), yy.ravel()]).reshape(xx.shape) # np.c_: 배열 합치기(c_: 열방향 / r_: 행방향) # ravel(): 평평하게 배열\n",
    "\n",
    "    # Create a color plot with the results\n",
    "    n_classes = len(np.unique(y))\n",
    "    contours = ax.contourf(xx, yy, Z, alpha=0.3, # alpha: blending value, between 0 (투명함) and 1 (표준)\n",
    "                           levels=np.arange(n_classes + 1) - 0.5, # levels: Determines the number and positions of the contour lines & regions\n",
    "                           cmap=cmap, clim=(y.min(), y.max()), # cmap: colormap\n",
    "                           zorder=1) # zorder=1: Patch / PatchCollection, zorder=2: Line2D / LineCollection, zorder=3: Text\n",
    "\n",
    "    ax.set(xlim=xlim, ylim=ylim)"
   ]
  },
  {
   "cell_type": "code",
   "execution_count": 192,
   "id": "3ed606f5-b568-45ac-8b59-30f4ce577e84",
   "metadata": {},
   "outputs": [],
   "source": [
    "# Decision Tree 정의\n",
    "tree = DecisionTreeClassifier().fit(pca_df, y)"
   ]
  },
  {
   "cell_type": "code",
   "execution_count": 197,
   "id": "cd72e672-6f7b-446c-abf1-eb2f8d6bc8eb",
   "metadata": {},
   "outputs": [],
   "source": [
    "pca_X = pca_df.to_numpy()"
   ]
  },
  {
   "cell_type": "code",
   "execution_count": 198,
   "id": "aad6927a-1281-4c48-842f-5a63aaa55738",
   "metadata": {},
   "outputs": [
    {
     "data": {
      "image/png": "[encoded data removed]",
      "text/plain": [
       "<Figure size 432x288 with 1 Axes>"
      ]
     },
     "metadata": {
      "needs_background": "light"
     },
     "output_type": "display_data"
    }
   ],
   "source": [
    "visualize_classifier(DecisionTreeClassifier(), pca_X, y)"
   ]
  },
  {
   "cell_type": "code",
   "execution_count": 19,
   "id": "0978b1b6-7d76-4ac4-beed-a9073fd2a0d7",
   "metadata": {},
   "outputs": [],
   "source": [
    "from sklearn.ensemble import RandomForestClassifier\n",
    "from sklearn.model_selection import train_test_split, GridSearchCV\n",
    "from sklearn.metrics import classification_report, confusion_matrix"
   ]
  },
  {
   "cell_type": "code",
   "execution_count": 199,
   "id": "4fd0ca20-1426-4504-ae08-153367ff1b22",
   "metadata": {
    "tags": []
   },
   "outputs": [
    {
     "name": "stdout",
     "output_type": "stream",
     "text": [
      "Best hyperparameters:  {'max_depth': 5, 'max_features': 'sqrt', 'n_estimators': 50}\n",
      "              precision    recall  f1-score   support\n",
      "\n",
      "       1000M       1.00      1.00      1.00        37\n",
      "        100A       1.00      1.00      1.00        38\n",
      "        100B       1.00      1.00      1.00        25\n",
      "        100M       1.00      1.00      1.00        31\n",
      "         10A       1.00      1.00      1.00        41\n",
      "         10B       1.00      1.00      1.00        22\n",
      "         10C       1.00      1.00      1.00        31\n",
      "         10M       1.00      1.00      1.00        26\n",
      "          1A       1.00      1.00      1.00        22\n",
      "\n",
      "    accuracy                           1.00       273\n",
      "   macro avg       1.00      1.00      1.00       273\n",
      "weighted avg       1.00      1.00      1.00       273\n",
      "\n"
     ]
    }
   ],
   "source": [
    "# Create a Random Forest Classifier object\n",
    "rfc = RandomForestClassifier(random_state=42)\n",
    "\n",
    "# Define the hyperparameter grid for GridSearchCV\n",
    "param_grid = {'n_estimators': [50, 100, 200],\n",
    "              'max_depth': [5, 10, None],\n",
    "              'max_features': ['sqrt', 'log2', None]}\n",
    "\n",
    "# Use GridSearchCV to find the best hyperparameters\n",
    "grid_search = GridSearchCV(rfc, param_grid, cv=5, n_jobs=-1)\n",
    "grid_search.fit(X_train, y_train)\n",
    "\n",
    "# Print the best hyperparameters found by GridSearchCV\n",
    "print(\"Best hyperparameters: \", grid_search.best_params_)\n",
    "\n",
    "# Train the classifier on the training data using the best hyperparameters\n",
    "best_rfc = RandomForestClassifier(**grid_search.best_params_, random_state=42)\n",
    "best_rfc.fit(X_train, y_train)\n",
    "\n",
    "# Use the classifier to make predictions on the test data\n",
    "y_pred_valid_rf = best_rfc.predict(X_valid)\n",
    "\n",
    "# Print classification report\n",
    "target_names = le.classes_\n",
    "print(classification_report(y_valid, y_pred_valid_rf, target_names=target_names))"
   ]
  },
  {
   "cell_type": "code",
   "execution_count": 21,
   "id": "614676f4-1584-4699-813e-48235fc225fa",
   "metadata": {},
   "outputs": [],
   "source": [
    "X_test = test.drop('label', axis=1)\n",
    "y_test = test['label']"
   ]
  },
  {
   "cell_type": "code",
   "execution_count": 22,
   "id": "5380b9fc-5a6c-4220-8ae8-2505d8c6f07f",
   "metadata": {},
   "outputs": [
    {
     "data": {
      "text/plain": [
       "((707, 11), (707,))"
      ]
     },
     "execution_count": 22,
     "metadata": {},
     "output_type": "execute_result"
    }
   ],
   "source": [
    "X_test.shape, y_test.shape"
   ]
  },
  {
   "cell_type": "code",
   "execution_count": 200,
   "id": "22917d2b-947d-4ae3-840f-fa7104ff1c31",
   "metadata": {},
   "outputs": [
    {
     "name": "stdout",
     "output_type": "stream",
     "text": [
      "Accuracy: 7.92%\n"
     ]
    }
   ],
   "source": []
  },
  {
   "cell_type": "code",
   "execution_count": 202,
   "id": "8876ff18-6b8e-4985-8153-222fd39cdd00",
   "metadata": {},
   "outputs": [
    {
     "name": "stdout",
     "output_type": "stream",
     "text": [
      "- Accuracy (Test) : 0.0792\n",
      "- F1 score (Test) : 0.0187\n"
     ]
    }
   ],
   "source": [
    "# 에측 결과 산출\n",
    "y_pred_test_rf = best_rfc.predict(X_test)\n",
    "\n",
    "# Confusion Matrix\n",
    "cm = confusion_matrix(y_test, y_pred_test_rf)\n",
    "cm = pd.DataFrame(cm)\n",
    "\n",
    "# Accuracy, F1-Score\n",
    "acc = accuracy_score(y_test, y_pred_test_rf)\n",
    "f1 = f1_score(y_test, y_pred_test_rf, average='weighted')\n",
    "\n",
    "print('- Accuracy (Test) : {:.3}'.format(acc))\n",
    "print('- F1 score (Test) : {:.3}'.format(f1))"
   ]
  },
  {
   "cell_type": "code",
   "execution_count": 203,
   "id": "64223d00-a31b-4cdb-8bfd-ad5876c57074",
   "metadata": {},
   "outputs": [],
   "source": [
    "cm.index = d.values()\n",
    "cm.columns = d.values()"
   ]
  },
  {
   "cell_type": "code",
   "execution_count": 206,
   "id": "be2acf56-796d-4d07-bc2e-aa59e289006d",
   "metadata": {},
   "outputs": [
    {
     "data": {
      "image/png": "[encoded data removed]",
      "text/plain": [
       "<Figure size 432x360 with 2 Axes>"
      ]
     },
     "metadata": {
      "needs_background": "light"
     },
     "output_type": "display_data"
    }
   ],
   "source": [
    "# 시각화\n",
    "plt.figure(figsize=(6, 5))\n",
    "sns.heatmap(data=cm, annot=True, annot_kws={'size': 15}, fmt='d', cmap='Blues')\n",
    "plt.xlabel('Actual class')\n",
    "plt.ylabel('Predicted class')\n",
    "plt.title('2/15 vs. 2/27. RandomForest(gridSearchCV) \\n Acc = {:.3f} & F1 = {:.3f}'.format(acc, f1))\n",
    "plt.show()"
   ]
  },
  {
   "cell_type": "markdown",
   "id": "3ac77947-03f4-4f24-bf20-32fa5102e720",
   "metadata": {},
   "source": [
    "---------------\n",
    "## 2/15 + 2/27 데이터와 합쳐서 보기"
   ]
  },
  {
   "cell_type": "code",
   "execution_count": 207,
   "id": "77bcbb64-b3c8-4f11-9f12-35193cab3ffd",
   "metadata": {},
   "outputs": [],
   "source": [
    "df = pd.read_csv('/home2/jupyter-s.kim/study/DIC/project/230302_stable.csv', parse_dates=['reg_date'])"
   ]
  },
  {
   "cell_type": "code",
   "execution_count": 208,
   "id": "efe18487-2582-4b40-96d8-f37ef829ba9c",
   "metadata": {},
   "outputs": [],
   "source": [
    "df['label'].replace({'A-3':'100A', 'A-4':'10A', 'A-5':'1A', 'C0':'100C', 'C-1':'10C',\n",
    "                     'B-4':'100B','B-5':'10B','B-6':'1B','M-2':'1000M','M-3':'100M','M-4':'10M'}, inplace=True)"
   ]
  },
  {
   "cell_type": "code",
   "execution_count": 209,
   "id": "26ce678c-204a-4026-a41e-394ea0939d3b",
   "metadata": {},
   "outputs": [],
   "source": [
    "# df = df.loc[np.isin(df['label'],target_labels)].reset_index(drop=True)\n",
    "df = df.loc[np.isin(df['label'],taget_labels_test)].reset_index(drop=True)"
   ]
  },
  {
   "cell_type": "code",
   "execution_count": 210,
   "id": "7effa535-cf55-4f5b-a35e-01476a2755f3",
   "metadata": {},
   "outputs": [],
   "source": [
    "# Encode the labels using LabelEncoder\n",
    "le = preprocessing.LabelEncoder()\n",
    "df['label'] = le.fit_transform(df['label'])"
   ]
  },
  {
   "cell_type": "code",
   "execution_count": 211,
   "id": "4c198a2c-4ce4-4c21-9d7a-f35aadcc9857",
   "metadata": {},
   "outputs": [],
   "source": [
    "df.drop(['Unnamed: 0', 'reg_date', 'label2'], axis='columns', inplace=True)"
   ]
  },
  {
   "cell_type": "code",
   "execution_count": 212,
   "id": "5d1bf588-6e77-429a-b9d4-4f46a33f80c3",
   "metadata": {},
   "outputs": [
    {
     "data": {
      "text/html": [
       "<div>\n",
       "<style scoped>\n",
       "    .dataframe tbody tr th:only-of-type {\n",
       "        vertical-align: middle;\n",
       "    }\n",
       "\n",
       "    .dataframe tbody tr th {\n",
       "        vertical-align: top;\n",
       "    }\n",
       "\n",
       "    .dataframe thead th {\n",
       "        text-align: right;\n",
       "    }\n",
       "</style>\n",
       "<table border=\"1\" class=\"dataframe\">\n",
       "  <thead>\n",
       "    <tr style=\"text-align: right;\">\n",
       "      <th></th>\n",
       "      <th>C7H8</th>\n",
       "      <th>TMA</th>\n",
       "      <th>VOC</th>\n",
       "      <th>CO2</th>\n",
       "      <th>HCHO</th>\n",
       "      <th>H2S</th>\n",
       "      <th>NH3</th>\n",
       "      <th>CH3SH</th>\n",
       "      <th>SO2</th>\n",
       "      <th>NO2</th>\n",
       "      <th>CO</th>\n",
       "      <th>label</th>\n",
       "    </tr>\n",
       "  </thead>\n",
       "  <tbody>\n",
       "    <tr>\n",
       "      <th>0</th>\n",
       "      <td>0.006729</td>\n",
       "      <td>0.000765</td>\n",
       "      <td>0.218334</td>\n",
       "      <td>366.7911</td>\n",
       "      <td>0.064331</td>\n",
       "      <td>0.115484</td>\n",
       "      <td>0.0</td>\n",
       "      <td>0.0</td>\n",
       "      <td>0.008281</td>\n",
       "      <td>0.257118</td>\n",
       "      <td>0.813704</td>\n",
       "      <td>8</td>\n",
       "    </tr>\n",
       "    <tr>\n",
       "      <th>1</th>\n",
       "      <td>0.006729</td>\n",
       "      <td>0.000762</td>\n",
       "      <td>0.203253</td>\n",
       "      <td>369.3264</td>\n",
       "      <td>0.069992</td>\n",
       "      <td>0.115484</td>\n",
       "      <td>0.0</td>\n",
       "      <td>0.0</td>\n",
       "      <td>0.023187</td>\n",
       "      <td>0.253690</td>\n",
       "      <td>0.827423</td>\n",
       "      <td>8</td>\n",
       "    </tr>\n",
       "    <tr>\n",
       "      <th>2</th>\n",
       "      <td>0.006729</td>\n",
       "      <td>0.000763</td>\n",
       "      <td>0.218334</td>\n",
       "      <td>366.7911</td>\n",
       "      <td>0.076759</td>\n",
       "      <td>0.112231</td>\n",
       "      <td>0.0</td>\n",
       "      <td>0.0</td>\n",
       "      <td>0.018218</td>\n",
       "      <td>0.257118</td>\n",
       "      <td>0.806844</td>\n",
       "      <td>8</td>\n",
       "    </tr>\n",
       "    <tr>\n",
       "      <th>3</th>\n",
       "      <td>0.006729</td>\n",
       "      <td>0.000762</td>\n",
       "      <td>0.216803</td>\n",
       "      <td>366.7911</td>\n",
       "      <td>0.069992</td>\n",
       "      <td>0.115484</td>\n",
       "      <td>0.0</td>\n",
       "      <td>0.0</td>\n",
       "      <td>0.014906</td>\n",
       "      <td>0.257118</td>\n",
       "      <td>0.902877</td>\n",
       "      <td>8</td>\n",
       "    </tr>\n",
       "    <tr>\n",
       "      <th>4</th>\n",
       "      <td>0.006729</td>\n",
       "      <td>0.000760</td>\n",
       "      <td>0.216803</td>\n",
       "      <td>370.3987</td>\n",
       "      <td>0.069992</td>\n",
       "      <td>0.105725</td>\n",
       "      <td>0.0</td>\n",
       "      <td>0.0</td>\n",
       "      <td>0.018218</td>\n",
       "      <td>0.257118</td>\n",
       "      <td>0.861720</td>\n",
       "      <td>8</td>\n",
       "    </tr>\n",
       "  </tbody>\n",
       "</table>\n",
       "</div>"
      ],
      "text/plain": [
       "       C7H8       TMA       VOC       CO2      HCHO       H2S  NH3  CH3SH  \\\n",
       "0  0.006729  0.000765  0.218334  366.7911  0.064331  0.115484  0.0    0.0   \n",
       "1  0.006729  0.000762  0.203253  369.3264  0.069992  0.115484  0.0    0.0   \n",
       "2  0.006729  0.000763  0.218334  366.7911  0.076759  0.112231  0.0    0.0   \n",
       "3  0.006729  0.000762  0.216803  366.7911  0.069992  0.115484  0.0    0.0   \n",
       "4  0.006729  0.000760  0.216803  370.3987  0.069992  0.105725  0.0    0.0   \n",
       "\n",
       "        SO2       NO2        CO  label  \n",
       "0  0.008281  0.257118  0.813704      8  \n",
       "1  0.023187  0.253690  0.827423      8  \n",
       "2  0.018218  0.257118  0.806844      8  \n",
       "3  0.014906  0.257118  0.902877      8  \n",
       "4  0.018218  0.257118  0.861720      8  "
      ]
     },
     "execution_count": 212,
     "metadata": {},
     "output_type": "execute_result"
    }
   ],
   "source": [
    "df.head()"
   ]
  },
  {
   "cell_type": "code",
   "execution_count": 215,
   "id": "adbfd0a8-3007-4d20-a27e-93d3b4550424",
   "metadata": {},
   "outputs": [
    {
     "name": "stdout",
     "output_type": "stream",
     "text": [
      "Shape of X_train: (1292, 11)\n",
      "Shape of y_train: (1292,)\n",
      "Shape of X_valid: (161, 11)\n",
      "Shape of y_valid: (161,)\n",
      "Shape of X_test: (162, 11)\n",
      "Shape of y_test: (162,)\n"
     ]
    }
   ],
   "source": [
    "# Split the df into training and testing sets\n",
    "X = df.drop('label', axis=1)\n",
    "y = df['label']\n",
    "# Split the data into train and test sets\n",
    "X_train, X_test, y_train, y_test = train_test_split(X, y, test_size=0.2, random_state=42)\n",
    "\n",
    "# Split the test set into test and validation sets\n",
    "X_valid, X_test, y_valid, y_test = train_test_split(X_test, y_test, test_size=0.5, random_state=42)\n",
    "\n",
    "# Print the shapes of the resulting arrays\n",
    "print('Shape of X_train:', X_train.shape)\n",
    "print('Shape of y_train:', y_train.shape)\n",
    "print('Shape of X_valid:', X_valid.shape)\n",
    "print('Shape of y_valid:', y_valid.shape)\n",
    "print('Shape of X_test:', X_test.shape)\n",
    "print('Shape of y_test:', y_test.shape)"
   ]
  },
  {
   "cell_type": "code",
   "execution_count": 219,
   "id": "88dd6987-2cd3-4e71-94d2-5c506f36e1ac",
   "metadata": {},
   "outputs": [],
   "source": [
    "acc_valid = []\n",
    "f1_valid = []\n",
    "for max_depth in max_depths:\n",
    "                      \n",
    "    # 모델 학습\n",
    "    model = DecisionTreeClassifier(max_depth=max_depth)\n",
    "    model.fit(X_train, y_train)\n",
    "    \n",
    "    # validation 예측\n",
    "    y_valid_pred = model.predict(X_valid)\n",
    "    \n",
    "    # 모델 평가 결과 저장\n",
    "    acc = accuracy_score(y_valid, y_valid_pred)\n",
    "    f1 = f1_score(y_valid, y_valid_pred, average='weighted')\n",
    "    \n",
    "    acc_valid.append(acc)\n",
    "    f1_valid.append(f1)"
   ]
  },
  {
   "cell_type": "code",
   "execution_count": 220,
   "id": "fc950b4b-9860-4024-bbc8-8a817d0c0c68",
   "metadata": {},
   "outputs": [
    {
     "data": {
      "image/png": "[encoded data removed]",
      "text/plain": [
       "<Figure size 1080x432 with 2 Axes>"
      ]
     },
     "metadata": {
      "needs_background": "light"
     },
     "output_type": "display_data"
    }
   ],
   "source": [
    "# Decision Tree depth에 따른 accuracy\n",
    "fig, ax = plt.subplots(figsize=(15, 6))\n",
    "#fig.subplots_adjust(right=0.75)\n",
    "\n",
    "ax.plot(range(len(max_depths)), acc_valid, color='red', marker='o')\n",
    "ax.set_ylabel('accuracy', color='red', fontsize=12)\n",
    "\n",
    "ax2 = ax.twinx()\n",
    "ax2.plot(range(len(max_depths)), f1_valid, color='blue', marker='s')\n",
    "ax2.set_ylabel('f1', color='blue', fontsize=12)\n",
    "\n",
    "plt.xticks(range(len(max_depths)), xticks)\n",
    "plt.show()"
   ]
  },
  {
   "cell_type": "code",
   "execution_count": 221,
   "id": "6e1f3a87-e8fc-47c0-979e-83c4fdb23453",
   "metadata": {},
   "outputs": [
    {
     "data": {
      "text/plain": [
       "DecisionTreeClassifier(max_depth=5)"
      ]
     },
     "execution_count": 221,
     "metadata": {},
     "output_type": "execute_result"
    }
   ],
   "source": [
    "model = DecisionTreeClassifier(max_depth=5)\n",
    "model.fit(X_train, y_train)"
   ]
  },
  {
   "cell_type": "code",
   "execution_count": 222,
   "id": "13942e32-bee2-42f5-bad1-684b9328880d",
   "metadata": {},
   "outputs": [
    {
     "name": "stdout",
     "output_type": "stream",
     "text": [
      "- Accuracy (Test) : 1.0\n",
      "- F1 score (Test) : 1.0\n"
     ]
    }
   ],
   "source": [
    "# 에측 결과 산출\n",
    "y_test_pred = model.predict(X_test)\n",
    "\n",
    "# Confusion Matrix\n",
    "cm = confusion_matrix(y_test, y_test_pred)\n",
    "cm = pd.DataFrame(cm)\n",
    "\n",
    "# Accuracy, F1-Score\n",
    "acc = accuracy_score(y_test, y_test_pred)\n",
    "f1 = f1_score(y_test, y_test_pred, average='weighted')\n",
    "\n",
    "print('- Accuracy (Test) : {:.3}'.format(acc))\n",
    "print('- F1 score (Test) : {:.3}'.format(f1))"
   ]
  },
  {
   "cell_type": "code",
   "execution_count": 223,
   "id": "f72f3b6a-b935-4fef-9259-4243bba93797",
   "metadata": {},
   "outputs": [],
   "source": [
    "cm.index = d.values()\n",
    "cm.columns = d.values()"
   ]
  },
  {
   "cell_type": "code",
   "execution_count": 224,
   "id": "d8f9debb-f926-4b18-808d-d72714ab28b9",
   "metadata": {},
   "outputs": [
    {
     "data": {
      "image/png": "[encoded data removed]",
      "text/plain": [
       "<Figure size 432x360 with 2 Axes>"
      ]
     },
     "metadata": {
      "needs_background": "light"
     },
     "output_type": "display_data"
    }
   ],
   "source": [
    "# 시각화\n",
    "plt.figure(figsize=(6, 5))\n",
    "sns.heatmap(data=cm, annot=True, annot_kws={'size': 15}, fmt='d', cmap='Blues')\n",
    "plt.xlabel('Actual class')\n",
    "plt.ylabel('Predicted class')\n",
    "plt.title('2/15+2/27. DecisionTree(max_depth=5) \\n Acc = {:.3f} & F1 = {:.3f}'.format(acc, f1))\n",
    "plt.show()"
   ]
  },
  {
   "cell_type": "code",
   "execution_count": 225,
   "id": "0e381e22-bd42-4eb2-acc8-3a78fbee4611",
   "metadata": {},
   "outputs": [
    {
     "name": "stdout",
     "output_type": "stream",
     "text": [
      "Explained variance ratio: [9.99993911e-01 3.81816401e-06]\n"
     ]
    }
   ],
   "source": [
    "from sklearn.decomposition import PCA\n",
    "\n",
    "# Create PCA object with 2 components\n",
    "pca = PCA(n_components=2)\n",
    "\n",
    "# Fit and transform the data\n",
    "X_pca = pca.fit_transform(X)\n",
    "\n",
    "# Create a new dataframe with the two primary components\n",
    "pca_df = pd.DataFrame(data=X_pca, columns=['PC1', 'PC2'])\n",
    "\n",
    "# Print the explained variance ratio\n",
    "print('Explained variance ratio:', pca.explained_variance_ratio_)"
   ]
  },
  {
   "cell_type": "code",
   "execution_count": 226,
   "id": "4a5b9710-0dd7-45c2-a510-bd3d1c2b497e",
   "metadata": {},
   "outputs": [
    {
     "data": {
      "image/png": "[encoded data removed]",
      "text/plain": [
       "<Figure size 720x504 with 1 Axes>"
      ]
     },
     "metadata": {
      "needs_background": "light"
     },
     "output_type": "display_data"
    }
   ],
   "source": [
    "plt.figure(figsize = (10,7))\n",
    "plt.scatter(pca_df['PC1'], pca_df['PC2'], c=y, s=50, cmap='rainbow')\n",
    "plt.show()"
   ]
  },
  {
   "cell_type": "code",
   "execution_count": 228,
   "id": "e5b0af88-db83-419f-b4ec-7cb8395c7a06",
   "metadata": {},
   "outputs": [],
   "source": [
    "pca_X = pca_df.to_numpy()\n",
    "# Decision Tree 정의\n",
    "tree = DecisionTreeClassifier().fit(pca_X, y)\n"
   ]
  },
  {
   "cell_type": "code",
   "execution_count": 229,
   "id": "b850b857-9759-4855-bd8a-f72db2842dfd",
   "metadata": {},
   "outputs": [
    {
     "data": {
      "image/png": "[encoded data removed]",
      "text/plain": [
       "<Figure size 432x288 with 1 Axes>"
      ]
     },
     "metadata": {
      "needs_background": "light"
     },
     "output_type": "display_data"
    }
   ],
   "source": [
    "visualize_classifier(DecisionTreeClassifier(), pca_X, y)"
   ]
  },
  {
   "cell_type": "code",
   "execution_count": 230,
   "id": "34528d29-4b58-464a-84ce-9bba84e02485",
   "metadata": {},
   "outputs": [
    {
     "name": "stdout",
     "output_type": "stream",
     "text": [
      "Best hyperparameters:  {'max_depth': 5, 'max_features': 'sqrt', 'n_estimators': 200}\n",
      "              precision    recall  f1-score   support\n",
      "\n",
      "       1000M       1.00      1.00      1.00        17\n",
      "        100A       1.00      1.00      1.00        18\n",
      "        100B       1.00      1.00      1.00        19\n",
      "        100M       1.00      1.00      1.00        15\n",
      "         10A       1.00      1.00      1.00        19\n",
      "         10B       1.00      1.00      1.00        20\n",
      "         10C       1.00      1.00      1.00        21\n",
      "         10M       1.00      1.00      1.00        15\n",
      "          1A       1.00      1.00      1.00        17\n",
      "\n",
      "    accuracy                           1.00       161\n",
      "   macro avg       1.00      1.00      1.00       161\n",
      "weighted avg       1.00      1.00      1.00       161\n",
      "\n"
     ]
    }
   ],
   "source": [
    "# Create a Random Forest Classifier object\n",
    "rfc = RandomForestClassifier(random_state=42)\n",
    "\n",
    "# Define the hyperparameter grid for GridSearchCV\n",
    "param_grid = {'n_estimators': [50, 100, 200],\n",
    "              'max_depth': [5, 10, None],\n",
    "              'max_features': ['sqrt', 'log2', None]}\n",
    "\n",
    "# Use GridSearchCV to find the best hyperparameters\n",
    "grid_search = GridSearchCV(rfc, param_grid, cv=5, n_jobs=-1)\n",
    "grid_search.fit(X_train, y_train)\n",
    "\n",
    "# Print the best hyperparameters found by GridSearchCV\n",
    "print(\"Best hyperparameters: \", grid_search.best_params_)\n",
    "\n",
    "# Train the classifier on the training data using the best hyperparameters\n",
    "best_rfc = RandomForestClassifier(**grid_search.best_params_, random_state=42)\n",
    "best_rfc.fit(X_train, y_train)\n",
    "\n",
    "# Use the classifier to make predictions on the test data\n",
    "y_pred_valid_rf = best_rfc.predict(X_valid)\n",
    "\n",
    "# Print classification report\n",
    "target_names = le.classes_\n",
    "print(classification_report(y_valid, y_pred_valid_rf, target_names=target_names))"
   ]
  },
  {
   "cell_type": "code",
   "execution_count": 231,
   "id": "1d41d55b-c608-460d-ac3c-a03f45ef65e4",
   "metadata": {},
   "outputs": [
    {
     "name": "stdout",
     "output_type": "stream",
     "text": [
      "- Accuracy (Test) : 1.0\n",
      "- F1 score (Test) : 1.0\n"
     ]
    }
   ],
   "source": [
    "# 에측 결과 산출\n",
    "y_pred_test_rf = best_rfc.predict(X_test)\n",
    "\n",
    "# Confusion Matrix\n",
    "cm = confusion_matrix(y_test, y_pred_test_rf)\n",
    "cm = pd.DataFrame(cm)\n",
    "\n",
    "# Accuracy, F1-Score\n",
    "acc = accuracy_score(y_test, y_pred_test_rf)\n",
    "f1 = f1_score(y_test, y_pred_test_rf, average='weighted')\n",
    "\n",
    "print('- Accuracy (Test) : {:.3}'.format(acc))\n",
    "print('- F1 score (Test) : {:.3}'.format(f1))"
   ]
  },
  {
   "cell_type": "code",
   "execution_count": 232,
   "id": "2a6833b5-ca95-4c73-8060-5ad165e113ac",
   "metadata": {},
   "outputs": [],
   "source": [
    "cm.index = d.values()\n",
    "cm.columns = d.values()"
   ]
  },
  {
   "cell_type": "code",
   "execution_count": 233,
   "id": "aa10a43e-6a34-4c30-b03a-8b9c766829ed",
   "metadata": {},
   "outputs": [
    {
     "data": {
      "image/png": "[encoded data removed]",
      "text/plain": [
       "<Figure size 432x360 with 2 Axes>"
      ]
     },
     "metadata": {
      "needs_background": "light"
     },
     "output_type": "display_data"
    }
   ],
   "source": [
    "# 시각화\n",
    "plt.figure(figsize=(6, 5))\n",
    "sns.heatmap(data=cm, annot=True, annot_kws={'size': 15}, fmt='d', cmap='Blues')\n",
    "plt.xlabel('Actual class')\n",
    "plt.ylabel('Predicted class')\n",
    "plt.title('2/15+2/27. RandomForest(GridSearchCV) \\n Acc = {:.3f} & F1 = {:.3f}'.format(acc, f1))\n",
    "plt.show()"
   ]
  },
  {
   "cell_type": "code",
   "execution_count": 234,
   "id": "fef45eed-ab64-4f8b-aef3-cd9eafae4a0e",
   "metadata": {},
   "outputs": [
    {
     "name": "stdout",
     "output_type": "stream",
     "text": [
      "Feature importances:\n",
      "C7H8      : 0.3483\n",
      "TMA       : 0.2390\n",
      "VOC       : 0.2062\n",
      "CO2       : 0.1442\n",
      "HCHO      : 0.0623\n",
      "H2S       : 0.0000\n",
      "NH3       : 0.0000\n",
      "CH3SH     : 0.0000\n",
      "SO2       : 0.0000\n",
      "NO2       : 0.0000\n",
      "CO        : 0.0000\n"
     ]
    }
   ],
   "source": [
    "# Get the feature importances and print them\n",
    "feature_importances = model.feature_importances_\n",
    "print(\"Feature importances:\")\n",
    "feature_importances = sorted(feature_importances, reverse=True)\n",
    "for i in range(len(feature_importances)):\n",
    "    print(\"{:<10s}: {:.4f}\".format(X.columns[i], feature_importances[i]))"
   ]
  },
  {
   "cell_type": "code",
   "execution_count": 235,
   "id": "b13bd63a-b1c2-4d6c-8e3f-93e032aa6152",
   "metadata": {},
   "outputs": [
    {
     "data": {
      "image/png": "[encoded data removed]",
      "text/plain": [
       "<Figure size 576x432 with 1 Axes>"
      ]
     },
     "metadata": {
      "needs_background": "light"
     },
     "output_type": "display_data"
    }
   ],
   "source": [
    "plt.figure(figsize=(8, 6))\n",
    "plt.title('Feature Importances(2/15+2/27)')\n",
    "plt.bar(range(X.shape[1]),\n",
    "        feature_importances,\n",
    "        align='center')\n",
    "plt.xticks(range(X.shape[1]), X.columns, rotation=90)\n",
    "plt.xlim([-1, X.shape[1]])\n",
    "plt.show()"
   ]
  },
  {
   "cell_type": "code",
   "execution_count": null,
   "id": "2768c7c6-98ea-498f-a30c-ea6361cc93f9",
   "metadata": {},
   "outputs": [],
   "source": []
  }
 ],
 "metadata": {
  "kernelspec": {
   "display_name": "Python 3",
   "language": "python",
   "name": "python3"
  },
  "language_info": {
   "codemirror_mode": {
    "name": "ipython",
    "version": 3
   },
   "file_extension": ".py",
   "mimetype": "text/x-python",
   "name": "python",
   "nbconvert_exporter": "python",
   "pygments_lexer": "ipython3",
   "version": "3.7.10"
  }
 },
 "nbformat": 4,
 "nbformat_minor": 5
}
