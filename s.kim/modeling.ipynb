{
 "cells": [
  {
   "cell_type": "code",
   "execution_count": 1,
   "id": "683bd638",
   "metadata": {},
   "outputs": [],
   "source": [
    "import sys\n",
    "sys.path.append('/home2/jupyter-s.kim/.local/lib/python3.7/site-packages/') # jupyter와 같은 package를 사용하기 위한 경로"
   ]
  },
  {
   "cell_type": "markdown",
   "id": "821340e8",
   "metadata": {},
   "source": [
    "import library"
   ]
  },
  {
   "cell_type": "code",
   "execution_count": 2,
   "id": "a1b5ce49-318f-404d-847a-a3abdc5bbe9b",
   "metadata": {},
   "outputs": [],
   "source": [
    "### default\n",
    "import pandas as pd\n",
    "import numpy as np\n",
    "import warnings\n",
    "warnings.filterwarnings('ignore')\n",
    "import random\n",
    "import time\n",
    "import copy\n",
    "\n",
    "### modeling\n",
    "import torch\n",
    "import torch.nn as nn\n",
    "import torch.optim as optim\n",
    "from torch.utils.data import DataLoader, TensorDataset\n",
    "\n",
    "from sklearn.preprocessing import StandardScaler\n",
    "from sklearn.model_selection import train_test_split\n",
    "from sklearn.preprocessing import LabelEncoder\n",
    "from tensorflow.keras.models import Sequential\n",
    "from tensorflow.keras.layers import Conv1D, MaxPooling1D, Dense, Flatten, Dropout\n",
    "from tensorflow.keras.utils import to_categorical\n",
    "\n",
    "### visualization\n",
    "import seaborn as sns\n",
    "from matplotlib import pyplot as plt"
   ]
  },
  {
   "cell_type": "code",
   "execution_count": 3,
   "id": "5b232c80-41a8-433a-84d3-21c83e4d7f10",
   "metadata": {},
   "outputs": [],
   "source": [
    "# 센서 종류\n",
    "sensors = ['C7H8', 'TMA', 'VOC', 'CO2', 'HCHO', 'H2S', 'NH3', 'CH3SH', 'SO2', 'NO2', 'CO']\n",
    "cols = ['C7H8', 'TMA', 'VOC', 'CO2', 'HCHO', 'H2S', 'NH3', 'CH3SH', 'SO2', 'NO2', 'CO', 'reg_date', 'label_type']"
   ]
  },
  {
   "cell_type": "code",
   "execution_count": 4,
   "id": "3c4605ef-617a-41b7-a1a2-c88a84a84d56",
   "metadata": {},
   "outputs": [],
   "source": [
    "df = pd.read_csv('df_type_total_230403.csv') # 3,4차 데이터셋"
   ]
  },
  {
   "cell_type": "code",
   "execution_count": 5,
   "id": "ac49a69e-09e4-4011-b704-81c82db3f850",
   "metadata": {},
   "outputs": [],
   "source": [
    "df = df[cols]"
   ]
  },
  {
   "cell_type": "markdown",
   "id": "b922d270",
   "metadata": {},
   "source": [
    "함수정의"
   ]
  },
  {
   "cell_type": "code",
   "execution_count": null,
   "id": "ad5d0267",
   "metadata": {},
   "outputs": [],
   "source": [
    "# 데이터셋을 만들기 위한 실험 구분\n",
    "def create_experiment_number(data):\n",
    "    data['lagged'] = data['reg_date'].shift(-1)\n",
    "    data['reg_date'] = pd.to_datetime(data['reg_date'])\n",
    "    data['lagged'] = pd.to_datetime(data['lagged'])\n",
    "    data['diff'] = data['lagged'] - data['reg_date']\n",
    "    data['diff'] = data['diff'] /  pd.Timedelta('1s')\n",
    "    data['diff'].fillna(1,inplace=True) #마지막줄 채워주기 위함\n",
    "    data.reset_index(drop=True, inplace=True)\n",
    "\n",
    "    num = 0\n",
    "    for i in range(len(data)):\n",
    "        if data.loc[i,'diff'] in [1,2]:\n",
    "            data.loc[i,'exp_num'] = num\n",
    "        else:\n",
    "            data.loc[i,'exp_num'] = num\n",
    "            num+=1\n",
    "    return data\n",
    "\n",
    "# 실험 별로 시계열 데이터셋을 만들기 위한 함수\n",
    "def create_windows(data, window_size=5):\n",
    "    X = []\n",
    "    y = []\n",
    "    for num, group_df in data.groupby('exp_num'):\n",
    "        data = group_df.iloc[:, 0:11].values\n",
    "        labels = group_df['label_type'].values\n",
    "        for i in range(len(data) - window_size + 1):\n",
    "            X.append(data[i:i+window_size])\n",
    "            y.append(labels[window_size-1])\n",
    "    return np.array(X), np.array(y)\n",
    "\n",
    "# 데이터셋을 train/valid/test로 나누는 함수\n",
    "def split_data(X, y, train_ratio=0.8, val_ratio=0.1, test_ratio=0.1):\n",
    "    assert train_ratio + val_ratio + test_ratio == 1, \"The sum of the ratios must be equal to 1.\"\n",
    "    assert len(X) == len(y), \"The length of X and y must be the same.\"\n",
    "\n",
    "    # numpy 배열을 torch 텐서로 변환합니다.\n",
    "    X = torch.from_numpy(X)\n",
    "    y = torch.from_numpy(y)\n",
    "\n",
    "    # 데이터를 무작위로 섞기 위한 인덱스를 생성합니다.\n",
    "    shuffled_indices = torch.randperm(len(X))\n",
    "\n",
    "    # 비율에 따라 인덱스를 설정합니다.\n",
    "    train_cnt = int(len(X) * train_ratio)\n",
    "    val_cnt = int(len(X) * val_ratio)\n",
    "    test_cnt = len(X) - (train_cnt + val_cnt)\n",
    "\n",
    "    # 데이터를 train, validation, test 셋으로 나눕니다 (torch.index_select 사용).\n",
    "    X_train, X_val, X_test = torch.index_select(X, dim=0, index=shuffled_indices).split([train_cnt, val_cnt, test_cnt], dim=0)\n",
    "    y_train, y_val, y_test = torch.index_select(y, dim=0, index=shuffled_indices).split([train_cnt, val_cnt, test_cnt], dim=0)\n",
    "    \n",
    "    print('---'*30)\n",
    "    print('Splitting Complete')\n",
    "    print(X_train.shape, y_train.shape, X_val.shape, y_val.shape, X_test.shape, y_test.shape)\n",
    "    return X_train, y_train, X_val, y_val, X_test, y_test\n",
    "\n",
    "# torch dataloader를 만들기 위한 함수\n",
    "def create_classification_dataset(data, window_size, batch_size):\n",
    "\n",
    "    X, y = create_windows(data, window_size)\n",
    "\n",
    "    encoder = LabelEncoder()\n",
    "    y = encoder.fit_transform(y)\n",
    "    y = to_categorical(y, num_classes=len(np.unique(y)))\n",
    "\n",
    "    X = X.transpose(0,2,1)\n",
    "    X = X.astype(np.float32)\n",
    "    y = y.astype(np.float32)\n",
    "    \n",
    "    X_train, y_train, X_val, y_val, X_test, y_test = split_data(X, y)\n",
    "\n",
    "    train_dataset = TensorDataset(X_train, y_train)\n",
    "    val_dataset = TensorDataset(X_val, y_val)\n",
    "    test_dataset = TensorDataset(X_test, y_test)\n",
    "\n",
    "    # DataLoader 생성\n",
    "    train_loader = DataLoader(train_dataset, batch_size=batch_size, shuffle=True)\n",
    "    val_loader = DataLoader(val_dataset, batch_size=batch_size, shuffle=False)\n",
    "    test_loader = DataLoader(test_dataset, batch_size=batch_size, shuffle=False)\n",
    "\n",
    "    return train_loader, val_loader, test_loader"
   ]
  },
  {
   "cell_type": "markdown",
   "id": "6fcf9057",
   "metadata": {},
   "source": [
    "데이터 전처리"
   ]
  },
  {
   "cell_type": "code",
   "execution_count": null,
   "id": "2af697f6",
   "metadata": {},
   "outputs": [],
   "source": [
    "df = create_experiment_number(df)"
   ]
  },
  {
   "cell_type": "markdown",
   "id": "85857c3b",
   "metadata": {},
   "source": [
    "tensorflow를 사용한 1D-CNN 구현"
   ]
  },
  {
   "cell_type": "code",
   "execution_count": null,
   "id": "2a3ba990-7397-433f-9fb9-cdeab14e55e4",
   "metadata": {},
   "outputs": [],
   "source": [
    "window_size=5\n",
    "X, y= create_windows(df, window_size)"
   ]
  },
  {
   "cell_type": "code",
   "execution_count": null,
   "id": "ef56f7ed-ef36-4290-81f2-36fdd548285c",
   "metadata": {},
   "outputs": [],
   "source": [
    "X.shape, y.shape"
   ]
  },
  {
   "cell_type": "code",
   "execution_count": null,
   "id": "c3ae5ad8",
   "metadata": {},
   "outputs": [],
   "source": [
    "X = X.transpose(0,2,1)"
   ]
  },
  {
   "cell_type": "code",
   "execution_count": null,
   "id": "4f0ae138-43e4-4849-ba46-ae3f6db6baf4",
   "metadata": {},
   "outputs": [],
   "source": [
    "X_train, X_test, y_train, y_test = train_test_split(X, y, test_size=0.2, random_state=42)\n",
    "\n",
    "scaler = StandardScaler()\n",
    "X_train = scaler.fit_transform(X_train.reshape(-1, X_train.shape[-1])).reshape(X_train.shape)\n",
    "X_test = scaler.transform(X_test.reshape(-1, X_test.shape[-1])).reshape(X_test.shape)\n",
    "\n",
    "encoder = LabelEncoder()\n",
    "y_train = encoder.fit_transform(y_train)\n",
    "y_test = encoder.transform(y_test)\n",
    "\n",
    "y_train = to_categorical(y_train, num_classes=len(np.unique(y)))\n",
    "y_test = to_categorical(y_test, num_classes=len(np.unique(y)))"
   ]
  },
  {
   "cell_type": "code",
   "execution_count": null,
   "id": "47b9db84",
   "metadata": {},
   "outputs": [],
   "source": [
    "X_train.shape, X_test.shape, y_train.shape, y_test.shape"
   ]
  },
  {
   "cell_type": "code",
   "execution_count": null,
   "id": "a387f237",
   "metadata": {},
   "outputs": [],
   "source": [
    "X_train.shape[-2]"
   ]
  },
  {
   "cell_type": "code",
   "execution_count": null,
   "id": "420a1f81",
   "metadata": {},
   "outputs": [],
   "source": [
    "model = Sequential()\n",
    "model.add(Conv1D(filters=32, kernel_size=3, activation='relu', input_shape=(X_train.shape[-2], window_size)))\n",
    "model.add(MaxPooling1D(pool_size=2))\n",
    "model.add(Dropout(0.2))\n",
    "model.add(Flatten())\n",
    "model.add(Dense(50, activation='relu'))\n",
    "model.add(Dense(len(np.unique(y)), activation='softmax'))"
   ]
  },
  {
   "cell_type": "code",
   "execution_count": null,
   "id": "f0c906ba-88f2-44ff-b080-a74861607c56",
   "metadata": {},
   "outputs": [],
   "source": [
    "model.summary()"
   ]
  },
  {
   "cell_type": "code",
   "execution_count": null,
   "id": "91f9136a-ea68-44b2-a83a-da807cadbc7d",
   "metadata": {},
   "outputs": [],
   "source": [
    "model.compile(optimizer='adam', loss='categorical_crossentropy', metrics=['accuracy'])"
   ]
  },
  {
   "cell_type": "code",
   "execution_count": null,
   "id": "3a4cd3af-1968-4f6c-844c-f38632f2df3f",
   "metadata": {
    "collapsed": true,
    "jupyter": {
     "outputs_hidden": true
    },
    "tags": []
   },
   "outputs": [],
   "source": [
    "# Step 5: Train and evaluate the model\n",
    "history = model.fit(X_train, y_train, epochs=100, batch_size=32, validation_data=(X_test, y_test), verbose=2)"
   ]
  },
  {
   "cell_type": "code",
   "execution_count": null,
   "id": "49ecec36-74c9-45fa-97a7-002c96732d34",
   "metadata": {},
   "outputs": [],
   "source": [
    "def plot_metrics(history):\n",
    "    # Plot training & validation accuracy values\n",
    "    plt.figure(figsize=(12, 4))\n",
    "    plt.subplot(1, 2, 1)\n",
    "    plt.plot(history.history['accuracy'])\n",
    "    plt.plot(history.history['val_accuracy'])\n",
    "    plt.title('Model Accuracy')\n",
    "    plt.ylabel('Accuracy')\n",
    "    plt.xlabel('Epoch')\n",
    "    plt.legend(['Train', 'Validation'], loc='best')\n",
    "\n",
    "    # Plot training & validation loss values\n",
    "    plt.subplot(1, 2, 2)\n",
    "    plt.plot(history.history['loss'])\n",
    "    plt.plot(history.history['val_loss'])\n",
    "    plt.title('Model Loss')\n",
    "    plt.ylabel('Loss')\n",
    "    plt.xlabel('Epoch')\n",
    "    plt.legend(['Train', 'Validation'], loc='best')\n",
    "\n",
    "    plt.show()\n",
    "\n",
    "plot_metrics(history)"
   ]
  },
  {
   "cell_type": "code",
   "execution_count": null,
   "id": "04cd1f18-ab5b-4a99-b1ec-a2457a5a8947",
   "metadata": {},
   "outputs": [],
   "source": [
    "max(history.history['accuracy'])"
   ]
  },
  {
   "cell_type": "markdown",
   "id": "18cbf4de",
   "metadata": {},
   "source": [
    "pytorch를 사용한 1D-CNN 구현"
   ]
  },
  {
   "cell_type": "code",
   "execution_count": null,
   "id": "31a04a28",
   "metadata": {},
   "outputs": [],
   "source": [
    "# Hyperparameter setting\n",
    "batch_size = 32\n",
    "num_classes = len(np.unique(df['label_type']))\n",
    "num_epochs = 100\n",
    "window_size = 5\n",
    "\n",
    "random_seed = 42\n",
    "device = torch.device(\"cuda:0\" if torch.cuda.is_available() else \"cpu\") # Detect if we have a GPU available"
   ]
  },
  {
   "cell_type": "code",
   "execution_count": null,
   "id": "0d1bbb9e",
   "metadata": {},
   "outputs": [],
   "source": [
    "# seed 고정\n",
    "torch.manual_seed(random_seed)\n",
    "torch.cuda.manual_seed(random_seed)\n",
    "torch.backends.cudnn.deterministic = True\n",
    "torch.backends.cudnn.benchmark = False\n",
    "np.random.seed(random_seed)\n",
    "random.seed(random_seed)"
   ]
  },
  {
   "cell_type": "code",
   "execution_count": null,
   "id": "62802355",
   "metadata": {},
   "outputs": [],
   "source": [
    "# Dataloader 구축\n",
    "# data shape: (batch_size x input_size x seq_len) => (32, 11, 5)\n",
    "train_loader, valid_loader, test_loader = create_classification_dataset(df, window_size, batch_size)"
   ]
  },
  {
   "cell_type": "code",
   "execution_count": null,
   "id": "98442f50",
   "metadata": {},
   "outputs": [],
   "source": [
    "# DataLoader에서 데이터 형태 확인\n",
    "for batch_idx, (inputs, targets) in enumerate(train_loader):\n",
    "    print(f\"Batch {batch_idx + 1} - Inputs shape: {inputs.shape}, Targets shape: {targets.shape}\")\n",
    "    break"
   ]
  },
  {
   "cell_type": "code",
   "execution_count": null,
   "id": "b4f7214f",
   "metadata": {},
   "outputs": [],
   "source": [
    "# 1-dimensional convolution layer로 구성된 CNN 모델\n",
    "# 2개의 1-dimensional convolution layer와 1개의 fully-connected layer로 구성되어 있음\n",
    "class CNN_1D(nn.Module):\n",
    "    def __init__(self, in_channel, out_channel, num_classes):\n",
    "\n",
    "        self.in_channel = in_channel\n",
    "        self.out_channel = out_channel\n",
    "        self.num_classes = num_classes\n",
    "\n",
    "        super(CNN_1D, self).__init__()\n",
    "        # 첫 번째 1-dimensional convolution layer 구축\n",
    "        self.layer1 = nn.Sequential(\n",
    "            nn.Conv1d(in_channel, out_channel, kernel_size=3, padding=1),\n",
    "            nn.ReLU(),\n",
    "            nn.AvgPool1d(kernel_size=2, stride=2)\n",
    "            # nn.MaxPool1d(kernel_size=2, stride=2)\n",
    "        )\n",
    "        # 두 번째 1-dimensional convolution layer 구축\n",
    "        self.layer2 = nn.Sequential(\n",
    "            nn.Conv1d(out_channel, 32, kernel_size=3, padding=1),\n",
    "            nn.ReLU(),\n",
    "            nn.AvgPool1d(kernel_size=2, stride=2)\n",
    "            # nn.MaxPool1d(kernel_size=2, stride=2)\n",
    "        )\n",
    "        # fully-connected layer 구축\n",
    "        self.fc = nn.Linear(32*1, num_classes)\n",
    "\n",
    "    def forward(self, x):\n",
    "        out = self.layer1(x)\n",
    "        out = self.layer2(out)\n",
    "        out = out.view(out.size(0), -1)\n",
    "        out = self.fc(out)\n",
    "        return out"
   ]
  },
  {
   "cell_type": "code",
   "execution_count": null,
   "id": "3cf7183d",
   "metadata": {},
   "outputs": [],
   "source": [
    "# 1D CNN 구축\n",
    "model = CNN_1D(in_channel=X_train.shape[-2], out_channel=16, num_classes=num_classes) # in_channel은 feature의 갯수\n",
    "model = model.to(device)\n",
    "print(model)"
   ]
  },
  {
   "cell_type": "code",
   "execution_count": null,
   "id": "afea9284",
   "metadata": {},
   "outputs": [],
   "source": [
    "# SGD optimizer 구축하기\n",
    "optimizer = optim.Adam(model.parameters(), lr=0.001)"
   ]
  },
  {
   "cell_type": "code",
   "execution_count": null,
   "id": "e2a93f3c",
   "metadata": {},
   "outputs": [],
   "source": [
    "def train_model(model, dataloaders, criterion, num_epochs, optimizer):\n",
    "    since = time.time()\n",
    "\n",
    "    val_acc_history = []\n",
    "\n",
    "    best_model_wts = copy.deepcopy(model.state_dict())\n",
    "    best_acc = 0.0\n",
    "\n",
    "    for epoch in range(num_epochs):\n",
    "        print('Epoch {}/{}'.format(epoch + 1, num_epochs))\n",
    "        print('-' * 10)\n",
    "\n",
    "        # 각 epoch마다 순서대로 training과 validation을 진행\n",
    "        for phase in ['train', 'val']:\n",
    "            if phase == 'train':\n",
    "                model.train()  # 모델을 training mode로 설정\n",
    "            else:\n",
    "                model.eval()   # 모델을 validation mode로 설정\n",
    "\n",
    "            running_loss = 0.0\n",
    "            running_corrects = 0\n",
    "            running_total = 0\n",
    "\n",
    "            # training과 validation 단계에 맞는 dataloader에 대하여 학습/검증 진행\n",
    "            for inputs, labels in dataloaders[phase]:\n",
    "                inputs = inputs.to(device)\n",
    "                labels = labels.to(device)\n",
    "\n",
    "                # parameter gradients를 0으로 설정\n",
    "                optimizer.zero_grad()\n",
    "\n",
    "                # forward\n",
    "                # training 단계에서만 gradient 업데이트 수행\n",
    "                with torch.set_grad_enabled(phase == 'train'):\n",
    "                    # input을 model에 넣어 output을 도출한 후, loss를 계산함\n",
    "                    outputs = model(inputs)\n",
    "                    loss = criterion(outputs, labels)\n",
    "\n",
    "                    # output 중 최댓값의 위치에 해당하는 class로 예측을 수행\n",
    "                    _, preds = torch.max(outputs, 1)\n",
    "\n",
    "                    # backward (optimize): training 단계에서만 수행\n",
    "                    if phase == 'train':\n",
    "                        loss.backward()\n",
    "                        optimizer.step()\n",
    "\n",
    "                # batch별 loss를 축적함\n",
    "                running_loss += loss.item() * inputs.size(0)\n",
    "                running_corrects += torch.sum(preds == torch.argmax(labels, dim=-1))\n",
    "                running_total += labels.size(0)\n",
    "\n",
    "            # epoch의 loss 및 accuracy 도출\n",
    "            epoch_loss = running_loss / running_total\n",
    "            epoch_acc = running_corrects.double() / running_total\n",
    "\n",
    "            print('{} Loss: {:.4f} Acc: {:.4f}'.format(phase, epoch_loss, epoch_acc))\n",
    "\n",
    "            # validation 단계에서 validation loss가 감소할 때마다 best model 가중치를 업데이트함\n",
    "            if phase == 'val' and epoch_acc > best_acc:\n",
    "                best_acc = epoch_acc\n",
    "                best_model_wts = copy.deepcopy(model.state_dict())\n",
    "            if phase == 'val':\n",
    "                val_acc_history.append(epoch_acc)\n",
    "\n",
    "        print()\n",
    "\n",
    "    # 전체 학습 시간 계산\n",
    "    time_elapsed = time.time() - since\n",
    "    print('Training complete in {:.0f}m {:.0f}s'.format(time_elapsed // 60, time_elapsed % 60))\n",
    "    print('Best val Acc: {:4f}'.format(best_acc))\n",
    "\n",
    "    # validation loss가 가장 낮았을 때의 best model 가중치를 불러와 best model을 구축함\n",
    "    model.load_state_dict(best_model_wts)\n",
    "    \n",
    "    # best model 가중치 저장\n",
    "    # torch.save(best_model_wts, '../output/best_model.pt')\n",
    "    return model, val_acc_history"
   ]
  },
  {
   "cell_type": "code",
   "execution_count": null,
   "id": "1418cd61",
   "metadata": {},
   "outputs": [],
   "source": [
    "# trining 단계에서 사용할 Dataloader dictionary 생성\n",
    "dataloaders_dict = {\n",
    "    'train': train_loader,\n",
    "    'val': valid_loader\n",
    "}\n",
    "# loss function 설정\n",
    "criterion = nn.CrossEntropyLoss()"
   ]
  },
  {
   "cell_type": "code",
   "execution_count": null,
   "id": "036140d9",
   "metadata": {},
   "outputs": [],
   "source": [
    "# 모델 학습\n",
    "model, val_acc_history = train_model(model, dataloaders_dict, criterion, num_epochs, optimizer)"
   ]
  },
  {
   "cell_type": "code",
   "execution_count": null,
   "id": "9a1fe1fa",
   "metadata": {},
   "outputs": [],
   "source": [
    "def test_model(model, test_loader):\n",
    "    model.eval()   # 모델을 validation mode로 설정\n",
    "    \n",
    "    # test_loader에 대하여 검증 진행 (gradient update 방지)\n",
    "    with torch.no_grad():\n",
    "        corrects = 0\n",
    "        total = 0\n",
    "        for inputs, labels in test_loader:\n",
    "            inputs = inputs.to(device)\n",
    "            labels = labels.to(device)\n",
    "\n",
    "            # forward\n",
    "            # input을 model에 넣어 output을 도출\n",
    "            outputs = model(inputs)\n",
    "\n",
    "            # output 중 최댓값의 위치에 해당하는 class로 예측을 수행\n",
    "            _, preds = torch.max(outputs, 1)\n",
    "\n",
    "            # batch별 정답 개수를 축적함\n",
    "            corrects += torch.sum(preds == torch.argmax(labels, dim=-1))\n",
    "            total += labels.size(0)\n",
    "\n",
    "    # accuracy를 도출함\n",
    "    test_acc = corrects.double() / total\n",
    "    print('Testing Acc: {:.4f}'.format(test_acc))"
   ]
  },
  {
   "cell_type": "code",
   "execution_count": null,
   "id": "ed358544",
   "metadata": {},
   "outputs": [],
   "source": [
    "# 모델 검증 (Acc: 0.8000)\n",
    "test_model(model, test_loader)"
   ]
  },
  {
   "cell_type": "code",
   "execution_count": null,
   "id": "618c361c",
   "metadata": {},
   "outputs": [],
   "source": [
    "val_acc_history\n"
   ]
  },
  {
   "cell_type": "code",
   "execution_count": null,
   "id": "9aaded21",
   "metadata": {},
   "outputs": [],
   "source": []
  }
 ],
 "metadata": {
  "kernelspec": {
   "display_name": "Python 3.7.10 64-bit ('user')",
   "language": "python",
   "name": "python3"
  },
  "language_info": {
   "codemirror_mode": {
    "name": "ipython",
    "version": 3
   },
   "file_extension": ".py",
   "mimetype": "text/x-python",
   "name": "python",
   "nbconvert_exporter": "python",
   "pygments_lexer": "ipython3",
   "version": "3.7.10"
  },
  "vscode": {
   "interpreter": {
    "hash": "4073845fb37e5e91a7e4a5aa5d982e60b118e70ad895c083f27423fb55749714"
   }
  }
 },
 "nbformat": 4,
 "nbformat_minor": 5
}
