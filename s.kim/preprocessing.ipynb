{
 "cells": [
  {
   "cell_type": "code",
   "execution_count": 1,
   "id": "45582d90-76bc-44fe-9d45-9f1bd225b385",
   "metadata": {},
   "outputs": [],
   "source": [
    "import pandas as pd\n",
    "import numpy as np"
   ]
  },
  {
   "cell_type": "code",
   "execution_count": 2,
   "id": "36c17d9a-d521-4774-b6b8-c847d7cc3c26",
   "metadata": {},
   "outputs": [],
   "source": [
    "df_230215_total = pd.read_excel('~/study/DIC/DIC4/data/230215_total.xlsx')\n",
    "df_230215_stable = pd.read_excel('~/study/DIC/DIC4/data/230215_stable.xlsx')"
   ]
  },
  {
   "cell_type": "code",
   "execution_count": 3,
   "id": "cfd6e5c8-a5d2-4ff6-aa0f-d30c2ad9c981",
   "metadata": {},
   "outputs": [],
   "source": [
    "df_230215_total = df_230215_total.dropna(axis='index',subset=['reg_date']).reset_index(drop=True)"
   ]
  },
  {
   "cell_type": "code",
   "execution_count": 4,
   "id": "471b93ad-07af-4849-9e48-b30b8a619f11",
   "metadata": {},
   "outputs": [],
   "source": [
    "df_230215_total['label_org'] = df_230215_total['label_org'].fillna('NA')"
   ]
  },
  {
   "cell_type": "code",
   "execution_count": 5,
   "id": "8b764a5e-09d5-4a8e-b8f8-9033bdf205e2",
   "metadata": {},
   "outputs": [],
   "source": [
    "df_230215_merge = pd.merge(left=df_230215_total, right=df_230215_stable[['idx','label_new']], on='idx', how='left')"
   ]
  },
  {
   "cell_type": "code",
   "execution_count": 6,
   "id": "066f7127-95e1-4a9b-b40e-b292e0c3527c",
   "metadata": {},
   "outputs": [
    {
     "data": {
      "text/plain": [
       "array(['안정화', 'PDA', '1A', '10A', '100A', '1C', '10C', '10B', '100B',\n",
       "       '1000B', 'NA', '10M', '100M', '1000M'], dtype=object)"
      ]
     },
     "execution_count": 6,
     "metadata": {},
     "output_type": "execute_result"
    }
   ],
   "source": [
    "df_230215_merge.label_org.unique()"
   ]
  },
  {
   "cell_type": "code",
   "execution_count": 7,
   "id": "035887aa-9c78-445b-9986-e1094e2acbb7",
   "metadata": {},
   "outputs": [],
   "source": [
    "df_230215_merge.loc[df_230215_merge['label_new'].isna(),'안정화'] = 0\n",
    "df_230215_merge.loc[~df_230215_merge['label_new'].isna(),'안정화'] = 1"
   ]
  },
  {
   "cell_type": "code",
   "execution_count": 19,
   "id": "99360190-449b-476c-827c-4b9193a87ce0",
   "metadata": {},
   "outputs": [
    {
     "name": "stdout",
     "output_type": "stream",
     "text": [
      "<class 'pandas.core.frame.DataFrame'>\n",
      "Int64Index: 5715 entries, 0 to 5714\n",
      "Data columns (total 22 columns):\n",
      " #   Column     Non-Null Count  Dtype         \n",
      "---  ------     --------------  -----         \n",
      " 0   idx        5715 non-null   float64       \n",
      " 1   temp       5715 non-null   float64       \n",
      " 2   humi       5715 non-null   float64       \n",
      " 3   reg_date   5715 non-null   datetime64[ns]\n",
      " 4   C7H8       5715 non-null   object        \n",
      " 5   TMA        5715 non-null   object        \n",
      " 6   VOC        5715 non-null   object        \n",
      " 7   CO2        5715 non-null   object        \n",
      " 8   HCHO       5715 non-null   object        \n",
      " 9   H2S        5715 non-null   object        \n",
      " 10  NH3        5715 non-null   object        \n",
      " 11  CH3SH      5715 non-null   object        \n",
      " 12  SO2        5715 non-null   object        \n",
      " 13  NO2        5715 non-null   object        \n",
      " 14  CO         5715 non-null   object        \n",
      " 15  sm_idx     5715 non-null   float64       \n",
      " 16  sms        5715 non-null   float64       \n",
      " 17  ou         5715 non-null   float64       \n",
      " 18  sm_kind    5715 non-null   object        \n",
      " 19  label_org  5715 non-null   object        \n",
      " 20  label_new  2032 non-null   object        \n",
      " 21  안정화        5715 non-null   float64       \n",
      "dtypes: datetime64[ns](1), float64(7), object(14)\n",
      "memory usage: 1.0+ MB\n"
     ]
    }
   ],
   "source": [
    "df_230215_merge.info()"
   ]
  },
  {
   "cell_type": "code",
   "execution_count": 9,
   "id": "9794b6f1-4fff-4c38-9de4-f8ef96d39b4e",
   "metadata": {},
   "outputs": [],
   "source": [
    "df_230215_merge.to_excel('~/study/DIC/DIC4/data/230215_data_concat.xlsx',index=False)"
   ]
  },
  {
   "cell_type": "code",
   "execution_count": 10,
   "id": "3a0e5fdc-a8ed-4e2f-b578-c480ff133a9e",
   "metadata": {},
   "outputs": [],
   "source": [
    "df_230227_total = pd.read_excel('~/study/DIC/DIC4/data/230227_total.xlsx')\n",
    "df_230227_stable = pd.read_excel('~/study/DIC/DIC4/data/230227_stable.xlsx')"
   ]
  },
  {
   "cell_type": "code",
   "execution_count": 11,
   "id": "ed967e9d-2562-4e47-972c-b793f0212cee",
   "metadata": {},
   "outputs": [],
   "source": [
    "# df_230227_stable.rename(columns={'Unnamed: 20':'label_new'},inplace=True)\n",
    "df_230227_total.drop(labels='reg_date.1', axis='columns', inplace=True)"
   ]
  },
  {
   "cell_type": "code",
   "execution_count": 12,
   "id": "483bd927-462c-4eda-b99d-e0e39a23dda6",
   "metadata": {},
   "outputs": [],
   "source": [
    "df_230227_total = df_230227_total.dropna(axis='index',subset=['reg_date']).reset_index(drop=True)"
   ]
  },
  {
   "cell_type": "code",
   "execution_count": 13,
   "id": "bc0de334-8e1e-4668-841c-87eabbdeb788",
   "metadata": {},
   "outputs": [],
   "source": [
    "df_230227_total['label_org'] = df_230227_total['label_org'].fillna('NA')"
   ]
  },
  {
   "cell_type": "code",
   "execution_count": 14,
   "id": "17a719fe-c8c1-4b96-b9b2-0642fb9deab0",
   "metadata": {},
   "outputs": [],
   "source": [
    "df_230227_merge = pd.merge(left=df_230227_total, right=df_230227_stable[['idx','label_new']], on='idx', how='left')"
   ]
  },
  {
   "cell_type": "code",
   "execution_count": 16,
   "id": "39a22543-933c-4f9e-8a17-0bcb3f174040",
   "metadata": {},
   "outputs": [],
   "source": [
    "df_230227_merge.loc[df_230227_merge['label_new'].isna(),'안정화'] = 0\n",
    "df_230227_merge.loc[~df_230227_merge['label_new'].isna(),'안정화'] = 1"
   ]
  },
  {
   "cell_type": "code",
   "execution_count": 17,
   "id": "c736b3c0-84d0-4ea5-b51e-e0e22a64c21e",
   "metadata": {},
   "outputs": [
    {
     "data": {
      "text/plain": [
       "array(['안정화', 'NA', 'PDA', 'PE-4', 'PE-5', 'PE-6', 'A-3', 'A-4', 'A-5',\n",
       "       'Mo-2', 'Mo-3', 'Mo-4', 'B-4', 'B-5', 'B-6', 'C0', 'C-1', 'M-2',\n",
       "       'M-3', 'M-4', 'En-5', 'En-6'], dtype=object)"
      ]
     },
     "execution_count": 17,
     "metadata": {},
     "output_type": "execute_result"
    }
   ],
   "source": [
    "df_230227_merge.label_org.unique()"
   ]
  },
  {
   "cell_type": "code",
   "execution_count": 20,
   "id": "e4a3194a-c917-433b-8bd8-75193e1aad61",
   "metadata": {},
   "outputs": [
    {
     "name": "stdout",
     "output_type": "stream",
     "text": [
      "<class 'pandas.core.frame.DataFrame'>\n",
      "Int64Index: 6619 entries, 0 to 6618\n",
      "Data columns (total 22 columns):\n",
      " #   Column     Non-Null Count  Dtype         \n",
      "---  ------     --------------  -----         \n",
      " 0   idx        6619 non-null   float64       \n",
      " 1   temp       6619 non-null   float64       \n",
      " 2   humi       6619 non-null   float64       \n",
      " 3   reg_date   6619 non-null   datetime64[ns]\n",
      " 4   C7H8       6619 non-null   object        \n",
      " 5   TMA        6619 non-null   object        \n",
      " 6   VOC        6619 non-null   object        \n",
      " 7   CO2        6619 non-null   object        \n",
      " 8   HCHO       6619 non-null   object        \n",
      " 9   H2S        6619 non-null   object        \n",
      " 10  NH3        6619 non-null   object        \n",
      " 11  CH3SH      6619 non-null   object        \n",
      " 12  SO2        6619 non-null   object        \n",
      " 13  NO2        6619 non-null   object        \n",
      " 14  CO         6619 non-null   object        \n",
      " 15  sm_idx     6619 non-null   float64       \n",
      " 16  sms        6619 non-null   float64       \n",
      " 17  ou         6619 non-null   float64       \n",
      " 18  sm_kind    6619 non-null   object        \n",
      " 19  label_org  6619 non-null   object        \n",
      " 20  label_new  1469 non-null   object        \n",
      " 21  안정화        6619 non-null   float64       \n",
      "dtypes: datetime64[ns](1), float64(7), object(14)\n",
      "memory usage: 1.2+ MB\n"
     ]
    }
   ],
   "source": [
    "df_230227_merge.info()"
   ]
  },
  {
   "cell_type": "code",
   "execution_count": 18,
   "id": "614a8177-12c4-496a-8c7f-284b736f8370",
   "metadata": {},
   "outputs": [],
   "source": [
    "df_230227_merge.to_excel('~/study/DIC/DIC4/data/230227_data_concat.xlsx',index=False)"
   ]
  },
  {
   "cell_type": "code",
   "execution_count": 21,
   "id": "4f9e50bd-61db-42b7-90a9-cd7b2ecf328e",
   "metadata": {},
   "outputs": [],
   "source": [
    "df_230312_total = pd.read_excel('~/study/DIC/DIC4/data/230312_total.xlsx')\n",
    "df_230312_stable = pd.read_excel('~/study/DIC/DIC4/data/230312_stable.xlsx')"
   ]
  },
  {
   "cell_type": "code",
   "execution_count": 22,
   "id": "cb9a1b1b-8ad8-4719-b7df-1ebbc5dde1e2",
   "metadata": {},
   "outputs": [],
   "source": [
    "# df_230227_stable.rename(columns={'Unnamed: 20':'label_new'},inplace=True)\n",
    "df_230312_total.drop(labels='reg_date.1', axis='columns', inplace=True)"
   ]
  },
  {
   "cell_type": "code",
   "execution_count": 23,
   "id": "5fd450d9-62c6-4125-ad38-1350fc01df7e",
   "metadata": {},
   "outputs": [],
   "source": [
    "df_230312_total = df_230312_total.dropna(axis='index',subset=['reg_date','label_org']).reset_index(drop=True)"
   ]
  },
  {
   "cell_type": "code",
   "execution_count": 24,
   "id": "324d3040-1ae2-4e2b-9e74-f4175b866913",
   "metadata": {},
   "outputs": [],
   "source": [
    "df_230312_merge = pd.merge(left=df_230312_total, right=df_230312_stable[['idx','label_new']], on='idx', how='left')"
   ]
  },
  {
   "cell_type": "code",
   "execution_count": 25,
   "id": "10077d1a-860f-4d18-a243-fb81f35f9f2c",
   "metadata": {},
   "outputs": [],
   "source": [
    "df_230312_merge.loc[df_230312_merge['label_new'].isna(),'안정화'] = 0\n",
    "df_230312_merge.loc[~df_230312_merge['label_new'].isna(),'안정화'] = 1"
   ]
  },
  {
   "cell_type": "code",
   "execution_count": 29,
   "id": "953fe95d-2b58-4ff1-93f7-45a51a12f2fc",
   "metadata": {},
   "outputs": [
    {
     "name": "stdout",
     "output_type": "stream",
     "text": [
      "<class 'pandas.core.frame.DataFrame'>\n",
      "Int64Index: 529 entries, 0 to 528\n",
      "Data columns (total 22 columns):\n",
      " #   Column     Non-Null Count  Dtype         \n",
      "---  ------     --------------  -----         \n",
      " 0   idx        529 non-null    float64       \n",
      " 1   temp       529 non-null    float64       \n",
      " 2   humi       529 non-null    float64       \n",
      " 3   reg_date   529 non-null    datetime64[ns]\n",
      " 4   C7H8       529 non-null    object        \n",
      " 5   TMA        529 non-null    object        \n",
      " 6   VOC        529 non-null    object        \n",
      " 7   CO2        529 non-null    object        \n",
      " 8   HCHO       529 non-null    object        \n",
      " 9   H2S        529 non-null    object        \n",
      " 10  NH3        529 non-null    object        \n",
      " 11  CH3SH      529 non-null    object        \n",
      " 12  SO2        529 non-null    object        \n",
      " 13  NO2        529 non-null    object        \n",
      " 14  CO         529 non-null    object        \n",
      " 15  sm_idx     529 non-null    float64       \n",
      " 16  sms        529 non-null    float64       \n",
      " 17  ou         529 non-null    float64       \n",
      " 18  sm_kind    529 non-null    object        \n",
      " 19  label_org  529 non-null    object        \n",
      " 20  label_new  395 non-null    object        \n",
      " 21  안정화        529 non-null    float64       \n",
      "dtypes: datetime64[ns](1), float64(7), object(14)\n",
      "memory usage: 95.1+ KB\n"
     ]
    }
   ],
   "source": [
    "df_230312_merge.info()"
   ]
  },
  {
   "cell_type": "code",
   "execution_count": 27,
   "id": "a56b35c9-5d1a-4274-a08a-6fa0bad92cce",
   "metadata": {},
   "outputs": [],
   "source": [
    "df_230312_merge.to_excel('~/study/DIC/DIC4/data/230312_data_concat.xlsx',index=False)"
   ]
  },
  {
   "cell_type": "code",
   "execution_count": 30,
   "id": "d2cf4a4b-f112-4a41-bd5d-80ff2fc146e3",
   "metadata": {},
   "outputs": [],
   "source": [
    "df_230320_total = pd.read_excel('~/study/DIC/DIC4/data/230320_total.xlsx')\n",
    "df_230320_stable = pd.read_excel('~/study/DIC/DIC4/data/230320_stable.xlsx')"
   ]
  },
  {
   "cell_type": "code",
   "execution_count": 33,
   "id": "4bae8369-3ed0-4d07-bcaa-272f372c01a6",
   "metadata": {},
   "outputs": [],
   "source": [
    "# df_230227_stable.rename(columns={'Unnamed: 20':'label_new'},inplace=True)\n",
    "df_230320_total.drop(labels='reg_date.1', axis='columns', inplace=True)"
   ]
  },
  {
   "cell_type": "code",
   "execution_count": 34,
   "id": "508880d0-b5bc-41d4-8f76-3b5911b6f248",
   "metadata": {},
   "outputs": [],
   "source": [
    "df_230320_total = df_230320_total.dropna(axis='index',subset=['reg_date']).reset_index(drop=True)"
   ]
  },
  {
   "cell_type": "code",
   "execution_count": 35,
   "id": "b9aae7c1-b6fe-4ed8-9303-b490f1499cec",
   "metadata": {},
   "outputs": [],
   "source": [
    "df_230320_total['label_org'] = df_230320_total['label_org'].fillna('NA')"
   ]
  },
  {
   "cell_type": "code",
   "execution_count": 36,
   "id": "9cc0a5ff-fac2-4e6b-b46b-2b7fd6eaea27",
   "metadata": {},
   "outputs": [],
   "source": [
    "df_230320_merge = pd.merge(left=df_230320_total, right=df_230320_stable[['idx','label_new']], on='idx', how='left')"
   ]
  },
  {
   "cell_type": "code",
   "execution_count": 37,
   "id": "7cca6e6d-2b85-4ec3-8a05-061618a6edad",
   "metadata": {},
   "outputs": [],
   "source": [
    "df_230320_merge.loc[df_230320_merge['label_new'].isna(),'안정화'] = 0\n",
    "df_230320_merge.loc[~df_230320_merge['label_new'].isna(),'안정화'] = 1"
   ]
  },
  {
   "cell_type": "code",
   "execution_count": 40,
   "id": "621239b2-321b-495d-84f5-92398072cc40",
   "metadata": {},
   "outputs": [
    {
     "name": "stdout",
     "output_type": "stream",
     "text": [
      "<class 'pandas.core.frame.DataFrame'>\n",
      "Int64Index: 625 entries, 0 to 624\n",
      "Data columns (total 22 columns):\n",
      " #   Column     Non-Null Count  Dtype         \n",
      "---  ------     --------------  -----         \n",
      " 0   idx        625 non-null    float64       \n",
      " 1   temp       625 non-null    float64       \n",
      " 2   humi       625 non-null    float64       \n",
      " 3   reg_date   625 non-null    datetime64[ns]\n",
      " 4   C7H8       625 non-null    object        \n",
      " 5   TMA        625 non-null    object        \n",
      " 6   VOC        625 non-null    object        \n",
      " 7   CO2        625 non-null    object        \n",
      " 8   HCHO       625 non-null    object        \n",
      " 9   H2S        625 non-null    object        \n",
      " 10  NH3        625 non-null    object        \n",
      " 11  CH3SH      625 non-null    object        \n",
      " 12  SO2        625 non-null    object        \n",
      " 13  NO2        625 non-null    object        \n",
      " 14  CO         625 non-null    object        \n",
      " 15  sm_idx     625 non-null    float64       \n",
      " 16  sms        625 non-null    float64       \n",
      " 17  ou         625 non-null    float64       \n",
      " 18  sm_kind    625 non-null    object        \n",
      " 19  label_org  625 non-null    object        \n",
      " 20  label_new  526 non-null    object        \n",
      " 21  안정화        625 non-null    float64       \n",
      "dtypes: datetime64[ns](1), float64(7), object(14)\n",
      "memory usage: 112.3+ KB\n"
     ]
    }
   ],
   "source": [
    "df_230320_merge.info()"
   ]
  },
  {
   "cell_type": "code",
   "execution_count": 39,
   "id": "c52a553e-cd3c-45bd-9c7d-709477b90ed9",
   "metadata": {},
   "outputs": [],
   "source": [
    "df_230320_merge.to_excel('~/study/DIC/DIC4/data/230320_data_concat.xlsx',index=False)"
   ]
  },
  {
   "cell_type": "code",
   "execution_count": null,
   "id": "59e339f8-2edd-4ceb-b4ac-87fdc42f217e",
   "metadata": {},
   "outputs": [],
   "source": []
  }
 ],
 "metadata": {
  "kernelspec": {
   "display_name": "Python 3",
   "language": "python",
   "name": "python3"
  },
  "language_info": {
   "codemirror_mode": {
    "name": "ipython",
    "version": 3
   },
   "file_extension": ".py",
   "mimetype": "text/x-python",
   "name": "python",
   "nbconvert_exporter": "python",
   "pygments_lexer": "ipython3",
   "version": "3.7.10"
  }
 },
 "nbformat": 4,
 "nbformat_minor": 5
}
