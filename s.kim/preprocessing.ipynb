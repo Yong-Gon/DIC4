{
 "cells": [
  {
   "cell_type": "code",
   "execution_count": 1,
   "id": "45582d90-76bc-44fe-9d45-9f1bd225b385",
   "metadata": {},
   "outputs": [],
   "source": [
    "import pandas as pd\n",
    "import numpy as np"
   ]
  },
  {
   "cell_type": "code",
   "execution_count": null,
   "id": "36c17d9a-d521-4774-b6b8-c847d7cc3c26",
   "metadata": {},
   "outputs": [],
   "source": [
    "df_230215_total = pd.read_excel('~/study/DIC/DIC4/data/230215_total.xlsx')\n",
    "df_230215_stable = pd.read_excel('~/study/DIC/DIC4/data/230215_stable.xlsx')"
   ]
  },
  {
   "cell_type": "code",
   "execution_count": null,
   "id": "cfd6e5c8-a5d2-4ff6-aa0f-d30c2ad9c981",
   "metadata": {},
   "outputs": [],
   "source": [
    "df_230215_total = df_230215_total.dropna(axis='index',subset=['reg_date']).reset_index(drop=True)"
   ]
  },
  {
   "cell_type": "code",
   "execution_count": null,
   "id": "471b93ad-07af-4849-9e48-b30b8a619f11",
   "metadata": {},
   "outputs": [],
   "source": [
    "df_230215_total['label_org'] = df_230215_total['label_org'].fillna('NA')"
   ]
  },
  {
   "cell_type": "code",
   "execution_count": null,
   "id": "8b764a5e-09d5-4a8e-b8f8-9033bdf205e2",
   "metadata": {},
   "outputs": [],
   "source": [
    "df_230215_merge = pd.merge(left=df_230215_total, right=df_230215_stable[['idx','label_new']], on='idx', how='left')"
   ]
  },
  {
   "cell_type": "code",
   "execution_count": null,
   "id": "066f7127-95e1-4a9b-b40e-b292e0c3527c",
   "metadata": {},
   "outputs": [],
   "source": [
    "df_230215_merge.label_org.unique()"
   ]
  },
  {
   "cell_type": "code",
   "execution_count": null,
   "id": "035887aa-9c78-445b-9986-e1094e2acbb7",
   "metadata": {},
   "outputs": [],
   "source": [
    "df_230215_merge.loc[df_230215_merge['label_new'].isna(),'안정화'] = 0\n",
    "df_230215_merge.loc[~df_230215_merge['label_new'].isna(),'안정화'] = 1"
   ]
  },
  {
   "cell_type": "code",
   "execution_count": null,
   "id": "99360190-449b-476c-827c-4b9193a87ce0",
   "metadata": {},
   "outputs": [],
   "source": [
    "df_230215_merge.info()"
   ]
  },
  {
   "cell_type": "code",
   "execution_count": null,
   "id": "9794b6f1-4fff-4c38-9de4-f8ef96d39b4e",
   "metadata": {},
   "outputs": [],
   "source": [
    "df_230215_merge.to_excel('~/study/DIC/DIC4/data/230215_data_concat.xlsx',index=False)"
   ]
  },
  {
   "cell_type": "code",
   "execution_count": null,
   "id": "3a0e5fdc-a8ed-4e2f-b578-c480ff133a9e",
   "metadata": {},
   "outputs": [],
   "source": [
    "df_230227_total = pd.read_excel('~/study/DIC/DIC4/data/230227_total.xlsx')\n",
    "df_230227_stable = pd.read_excel('~/study/DIC/DIC4/data/230227_stable.xlsx')"
   ]
  },
  {
   "cell_type": "code",
   "execution_count": null,
   "id": "ed967e9d-2562-4e47-972c-b793f0212cee",
   "metadata": {},
   "outputs": [],
   "source": [
    "# df_230227_stable.rename(columns={'Unnamed: 20':'label_new'},inplace=True)\n",
    "df_230227_total.drop(labels='reg_date.1', axis='columns', inplace=True)"
   ]
  },
  {
   "cell_type": "code",
   "execution_count": null,
   "id": "483bd927-462c-4eda-b99d-e0e39a23dda6",
   "metadata": {},
   "outputs": [],
   "source": [
    "df_230227_total = df_230227_total.dropna(axis='index',subset=['reg_date']).reset_index(drop=True)"
   ]
  },
  {
   "cell_type": "code",
   "execution_count": null,
   "id": "bc0de334-8e1e-4668-841c-87eabbdeb788",
   "metadata": {},
   "outputs": [],
   "source": [
    "df_230227_total['label_org'] = df_230227_total['label_org'].fillna('NA')"
   ]
  },
  {
   "cell_type": "code",
   "execution_count": null,
   "id": "17a719fe-c8c1-4b96-b9b2-0642fb9deab0",
   "metadata": {},
   "outputs": [],
   "source": [
    "df_230227_merge = pd.merge(left=df_230227_total, right=df_230227_stable[['idx','label_new']], on='idx', how='left')"
   ]
  },
  {
   "cell_type": "code",
   "execution_count": null,
   "id": "39a22543-933c-4f9e-8a17-0bcb3f174040",
   "metadata": {},
   "outputs": [],
   "source": [
    "df_230227_merge.loc[df_230227_merge['label_new'].isna(),'안정화'] = 0\n",
    "df_230227_merge.loc[~df_230227_merge['label_new'].isna(),'안정화'] = 1"
   ]
  },
  {
   "cell_type": "code",
   "execution_count": null,
   "id": "c736b3c0-84d0-4ea5-b51e-e0e22a64c21e",
   "metadata": {},
   "outputs": [],
   "source": [
    "df_230227_merge.label_org.unique()"
   ]
  },
  {
   "cell_type": "code",
   "execution_count": null,
   "id": "e4a3194a-c917-433b-8bd8-75193e1aad61",
   "metadata": {},
   "outputs": [],
   "source": [
    "df_230227_merge.info()"
   ]
  },
  {
   "cell_type": "code",
   "execution_count": null,
   "id": "614a8177-12c4-496a-8c7f-284b736f8370",
   "metadata": {},
   "outputs": [],
   "source": [
    "df_230227_merge.to_excel('~/study/DIC/DIC4/data/230227_data_concat.xlsx',index=False)"
   ]
  },
  {
   "cell_type": "code",
   "execution_count": null,
   "id": "4f9e50bd-61db-42b7-90a9-cd7b2ecf328e",
   "metadata": {},
   "outputs": [],
   "source": [
    "df_230312_total = pd.read_excel('~/study/DIC/DIC4/data/230312_total.xlsx')\n",
    "df_230312_stable = pd.read_excel('~/study/DIC/DIC4/data/230312_stable.xlsx')"
   ]
  },
  {
   "cell_type": "code",
   "execution_count": null,
   "id": "cb9a1b1b-8ad8-4719-b7df-1ebbc5dde1e2",
   "metadata": {},
   "outputs": [],
   "source": [
    "# df_230227_stable.rename(columns={'Unnamed: 20':'label_new'},inplace=True)\n",
    "df_230312_total.drop(labels='reg_date.1', axis='columns', inplace=True)"
   ]
  },
  {
   "cell_type": "code",
   "execution_count": null,
   "id": "5fd450d9-62c6-4125-ad38-1350fc01df7e",
   "metadata": {},
   "outputs": [],
   "source": [
    "df_230312_total = df_230312_total.dropna(axis='index',subset=['reg_date','label_org']).reset_index(drop=True)"
   ]
  },
  {
   "cell_type": "code",
   "execution_count": null,
   "id": "324d3040-1ae2-4e2b-9e74-f4175b866913",
   "metadata": {},
   "outputs": [],
   "source": [
    "df_230312_merge = pd.merge(left=df_230312_total, right=df_230312_stable[['idx','label_new']], on='idx', how='left')"
   ]
  },
  {
   "cell_type": "code",
   "execution_count": null,
   "id": "10077d1a-860f-4d18-a243-fb81f35f9f2c",
   "metadata": {},
   "outputs": [],
   "source": [
    "df_230312_merge.loc[df_230312_merge['label_new'].isna(),'안정화'] = 0\n",
    "df_230312_merge.loc[~df_230312_merge['label_new'].isna(),'안정화'] = 1"
   ]
  },
  {
   "cell_type": "code",
   "execution_count": null,
   "id": "953fe95d-2b58-4ff1-93f7-45a51a12f2fc",
   "metadata": {},
   "outputs": [],
   "source": [
    "df_230312_merge.info()"
   ]
  },
  {
   "cell_type": "code",
   "execution_count": null,
   "id": "a56b35c9-5d1a-4274-a08a-6fa0bad92cce",
   "metadata": {},
   "outputs": [],
   "source": [
    "df_230312_merge.to_excel('~/study/DIC/DIC4/data/230312_data_concat.xlsx',index=False)"
   ]
  },
  {
   "cell_type": "code",
   "execution_count": null,
   "id": "d2cf4a4b-f112-4a41-bd5d-80ff2fc146e3",
   "metadata": {},
   "outputs": [],
   "source": [
    "df_230320_total = pd.read_excel('~/study/DIC/DIC4/data/230320_total.xlsx')\n",
    "df_230320_stable = pd.read_excel('~/study/DIC/DIC4/data/230320_stable.xlsx')"
   ]
  },
  {
   "cell_type": "code",
   "execution_count": null,
   "id": "4bae8369-3ed0-4d07-bcaa-272f372c01a6",
   "metadata": {},
   "outputs": [],
   "source": [
    "# df_230227_stable.rename(columns={'Unnamed: 20':'label_new'},inplace=True)\n",
    "df_230320_total.drop(labels='reg_date.1', axis='columns', inplace=True)"
   ]
  },
  {
   "cell_type": "code",
   "execution_count": null,
   "id": "508880d0-b5bc-41d4-8f76-3b5911b6f248",
   "metadata": {},
   "outputs": [],
   "source": [
    "df_230320_total = df_230320_total.dropna(axis='index',subset=['reg_date']).reset_index(drop=True)"
   ]
  },
  {
   "cell_type": "code",
   "execution_count": null,
   "id": "b9aae7c1-b6fe-4ed8-9303-b490f1499cec",
   "metadata": {},
   "outputs": [],
   "source": [
    "df_230320_total['label_org'] = df_230320_total['label_org'].fillna('NA')"
   ]
  },
  {
   "cell_type": "code",
   "execution_count": null,
   "id": "9cc0a5ff-fac2-4e6b-b46b-2b7fd6eaea27",
   "metadata": {},
   "outputs": [],
   "source": [
    "df_230320_merge = pd.merge(left=df_230320_total, right=df_230320_stable[['idx','label_new']], on='idx', how='left')"
   ]
  },
  {
   "cell_type": "code",
   "execution_count": null,
   "id": "7cca6e6d-2b85-4ec3-8a05-061618a6edad",
   "metadata": {},
   "outputs": [],
   "source": [
    "df_230320_merge.loc[df_230320_merge['label_new'].isna(),'안정화'] = 0\n",
    "df_230320_merge.loc[~df_230320_merge['label_new'].isna(),'안정화'] = 1"
   ]
  },
  {
   "cell_type": "code",
   "execution_count": null,
   "id": "621239b2-321b-495d-84f5-92398072cc40",
   "metadata": {},
   "outputs": [],
   "source": [
    "df_230320_merge.info()"
   ]
  },
  {
   "cell_type": "code",
   "execution_count": null,
   "id": "c52a553e-cd3c-45bd-9c7d-709477b90ed9",
   "metadata": {},
   "outputs": [],
   "source": [
    "df_230320_merge.to_excel('~/study/DIC/DIC4/data/230320_data_concat.xlsx',index=False)"
   ]
  },
  {
   "cell_type": "code",
   "execution_count": 4,
   "id": "ff721600-a9ef-453b-a753-cf852be6a65d",
   "metadata": {},
   "outputs": [],
   "source": [
    "df_5 = pd.read_excel('/home2/datapf/skim/230327_5.xlsx', sheet_name='추출값정리')\n",
    "df_6 = pd.read_excel('/home2/datapf/skim/230328_6.xlsx', sheet_name='추출값정리')\n",
    "df_7 = pd.read_excel('/home2/datapf/skim/230329_7.xlsx', sheet_name='추출값정리')"
   ]
  },
  {
   "cell_type": "code",
   "execution_count": 5,
   "id": "0c123103-96b2-472c-ae95-b1503cd4db0f",
   "metadata": {},
   "outputs": [
    {
     "data": {
      "text/html": [
       "<div>\n",
       "<style scoped>\n",
       "    .dataframe tbody tr th:only-of-type {\n",
       "        vertical-align: middle;\n",
       "    }\n",
       "\n",
       "    .dataframe tbody tr th {\n",
       "        vertical-align: top;\n",
       "    }\n",
       "\n",
       "    .dataframe thead th {\n",
       "        text-align: right;\n",
       "    }\n",
       "</style>\n",
       "<table border=\"1\" class=\"dataframe\">\n",
       "  <thead>\n",
       "    <tr style=\"text-align: right;\">\n",
       "      <th></th>\n",
       "      <th>idx</th>\n",
       "      <th>temp</th>\n",
       "      <th>humi</th>\n",
       "      <th>reg_date</th>\n",
       "      <th>C7H8</th>\n",
       "      <th>TMA</th>\n",
       "      <th>VOC</th>\n",
       "      <th>CO2</th>\n",
       "      <th>HCHO</th>\n",
       "      <th>H2S</th>\n",
       "      <th>...</th>\n",
       "      <th>SO2</th>\n",
       "      <th>NO2</th>\n",
       "      <th>CO</th>\n",
       "      <th>sm_idx</th>\n",
       "      <th>sms</th>\n",
       "      <th>ou</th>\n",
       "      <th>reg_date.1</th>\n",
       "      <th>sm_kind</th>\n",
       "      <th>label_new</th>\n",
       "      <th>안정화</th>\n",
       "    </tr>\n",
       "  </thead>\n",
       "  <tbody>\n",
       "    <tr>\n",
       "      <th>0</th>\n",
       "      <td>5529836.0</td>\n",
       "      <td>30.27405</td>\n",
       "      <td>2.551270</td>\n",
       "      <td>2023-03-27 13:29:51</td>\n",
       "      <td>0</td>\n",
       "      <td>0.000022</td>\n",
       "      <td>0.204428</td>\n",
       "      <td>372.6439</td>\n",
       "      <td>0</td>\n",
       "      <td>0.160832</td>\n",
       "      <td>...</td>\n",
       "      <td>0</td>\n",
       "      <td>0.012051</td>\n",
       "      <td>0.468287</td>\n",
       "      <td>1.0</td>\n",
       "      <td>1.50</td>\n",
       "      <td>0.0</td>\n",
       "      <td>2023-03-27 13:29:51</td>\n",
       "      <td>무취</td>\n",
       "      <td>NaN</td>\n",
       "      <td>0.0</td>\n",
       "    </tr>\n",
       "    <tr>\n",
       "      <th>1</th>\n",
       "      <td>5529837.0</td>\n",
       "      <td>30.29419</td>\n",
       "      <td>5.798340</td>\n",
       "      <td>2023-03-27 13:29:53</td>\n",
       "      <td>0</td>\n",
       "      <td>0.000024</td>\n",
       "      <td>0.2185</td>\n",
       "      <td>372.6439</td>\n",
       "      <td>0</td>\n",
       "      <td>0.220646</td>\n",
       "      <td>...</td>\n",
       "      <td>0</td>\n",
       "      <td>0.012051</td>\n",
       "      <td>0.584283</td>\n",
       "      <td>1.0</td>\n",
       "      <td>1.75</td>\n",
       "      <td>0.0</td>\n",
       "      <td>2023-03-27 13:29:53</td>\n",
       "      <td>무취</td>\n",
       "      <td>NaN</td>\n",
       "      <td>0.0</td>\n",
       "    </tr>\n",
       "    <tr>\n",
       "      <th>2</th>\n",
       "      <td>5529838.0</td>\n",
       "      <td>30.27405</td>\n",
       "      <td>9.143066</td>\n",
       "      <td>2023-03-27 13:29:54</td>\n",
       "      <td>0.000412</td>\n",
       "      <td>0.000024</td>\n",
       "      <td>0.231294</td>\n",
       "      <td>375.1008</td>\n",
       "      <td>0</td>\n",
       "      <td>0.273609</td>\n",
       "      <td>...</td>\n",
       "      <td>0</td>\n",
       "      <td>0.009734</td>\n",
       "      <td>0.602599</td>\n",
       "      <td>1.0</td>\n",
       "      <td>2.50</td>\n",
       "      <td>0.0</td>\n",
       "      <td>2023-03-27 13:29:54</td>\n",
       "      <td>무취</td>\n",
       "      <td>NaN</td>\n",
       "      <td>0.0</td>\n",
       "    </tr>\n",
       "    <tr>\n",
       "      <th>3</th>\n",
       "      <td>5529839.0</td>\n",
       "      <td>30.31433</td>\n",
       "      <td>10.711670</td>\n",
       "      <td>2023-03-27 13:29:55</td>\n",
       "      <td>0.001045</td>\n",
       "      <td>0.000023</td>\n",
       "      <td>0.231294</td>\n",
       "      <td>375.1008</td>\n",
       "      <td>0</td>\n",
       "      <td>0.305378</td>\n",
       "      <td>...</td>\n",
       "      <td>0.35748</td>\n",
       "      <td>0.005566</td>\n",
       "      <td>0.639229</td>\n",
       "      <td>3.0</td>\n",
       "      <td>2.50</td>\n",
       "      <td>0.0</td>\n",
       "      <td>2023-03-27 13:29:55</td>\n",
       "      <td>고무</td>\n",
       "      <td>NaN</td>\n",
       "      <td>0.0</td>\n",
       "    </tr>\n",
       "    <tr>\n",
       "      <th>4</th>\n",
       "      <td>5529840.0</td>\n",
       "      <td>30.40497</td>\n",
       "      <td>12.780760</td>\n",
       "      <td>2023-03-27 13:29:57</td>\n",
       "      <td>0.002432</td>\n",
       "      <td>0.000026</td>\n",
       "      <td>0.293865</td>\n",
       "      <td>254.7131</td>\n",
       "      <td>0</td>\n",
       "      <td>0.394329</td>\n",
       "      <td>...</td>\n",
       "      <td>0</td>\n",
       "      <td>0.002323</td>\n",
       "      <td>0.633124</td>\n",
       "      <td>9.0</td>\n",
       "      <td>1.75</td>\n",
       "      <td>0.0</td>\n",
       "      <td>2023-03-27 13:29:57</td>\n",
       "      <td>(음식)비린</td>\n",
       "      <td>NaN</td>\n",
       "      <td>0.0</td>\n",
       "    </tr>\n",
       "  </tbody>\n",
       "</table>\n",
       "<p>5 rows × 22 columns</p>\n",
       "</div>"
      ],
      "text/plain": [
       "         idx      temp       humi            reg_date      C7H8       TMA  \\\n",
       "0  5529836.0  30.27405   2.551270 2023-03-27 13:29:51         0  0.000022   \n",
       "1  5529837.0  30.29419   5.798340 2023-03-27 13:29:53         0  0.000024   \n",
       "2  5529838.0  30.27405   9.143066 2023-03-27 13:29:54  0.000412  0.000024   \n",
       "3  5529839.0  30.31433  10.711670 2023-03-27 13:29:55  0.001045  0.000023   \n",
       "4  5529840.0  30.40497  12.780760 2023-03-27 13:29:57  0.002432  0.000026   \n",
       "\n",
       "        VOC       CO2 HCHO       H2S  ...      SO2       NO2        CO sm_idx  \\\n",
       "0  0.204428  372.6439    0  0.160832  ...        0  0.012051  0.468287    1.0   \n",
       "1    0.2185  372.6439    0  0.220646  ...        0  0.012051  0.584283    1.0   \n",
       "2  0.231294  375.1008    0  0.273609  ...        0  0.009734  0.602599    1.0   \n",
       "3  0.231294  375.1008    0  0.305378  ...  0.35748  0.005566  0.639229    3.0   \n",
       "4  0.293865  254.7131    0  0.394329  ...        0  0.002323  0.633124    9.0   \n",
       "\n",
       "    sms   ou          reg_date.1  sm_kind label_new  안정화  \n",
       "0  1.50  0.0 2023-03-27 13:29:51       무취       NaN  0.0  \n",
       "1  1.75  0.0 2023-03-27 13:29:53       무취       NaN  0.0  \n",
       "2  2.50  0.0 2023-03-27 13:29:54       무취       NaN  0.0  \n",
       "3  2.50  0.0 2023-03-27 13:29:55       고무       NaN  0.0  \n",
       "4  1.75  0.0 2023-03-27 13:29:57   (음식)비린       NaN  0.0  \n",
       "\n",
       "[5 rows x 22 columns]"
      ]
     },
     "execution_count": 5,
     "metadata": {},
     "output_type": "execute_result"
    }
   ],
   "source": [
    "df_5.head()"
   ]
  },
  {
   "cell_type": "code",
   "execution_count": 7,
   "id": "69005d70-0a70-4573-8495-f4bc26a4221c",
   "metadata": {},
   "outputs": [],
   "source": [
    "df_5 = df_5.dropna(axis='index',subset=['reg_date']).reset_index(drop=True)\n",
    "df_6 = df_6.dropna(axis='index',subset=['reg_date']).reset_index(drop=True)\n",
    "df_7 = df_7.dropna(axis='index',subset=['reg_date']).reset_index(drop=True)"
   ]
  },
  {
   "cell_type": "code",
   "execution_count": 13,
   "id": "ee630a01-b22f-448f-8e46-9ee4255428d2",
   "metadata": {},
   "outputs": [],
   "source": [
    "df_5.to_excel('/home2/jupyter-s.kim/study/DIC/DIC4/data/230327.xlsx')\n",
    "df_6.to_excel('/home2/jupyter-s.kim/study/DIC/DIC4/data/230328.xlsx')\n",
    "df_7.to_excel('/home2/jupyter-s.kim/study/DIC/DIC4/data/230329.xlsx')"
   ]
  },
  {
   "cell_type": "code",
   "execution_count": null,
   "id": "a8f2445c-9592-46bb-9483-ed063484e78d",
   "metadata": {},
   "outputs": [],
   "source": []
  },
  {
   "cell_type": "code",
   "execution_count": null,
   "id": "01a9a8a8-2510-44dd-a97a-e703a2323372",
   "metadata": {},
   "outputs": [],
   "source": []
  },
  {
   "cell_type": "code",
   "execution_count": null,
   "id": "59e339f8-2edd-4ceb-b4ac-87fdc42f217e",
   "metadata": {},
   "outputs": [],
   "source": []
  }
 ],
 "metadata": {
  "kernelspec": {
   "display_name": "Python 3",
   "language": "python",
   "name": "python3"
  },
  "language_info": {
   "codemirror_mode": {
    "name": "ipython",
    "version": 3
   },
   "file_extension": ".py",
   "mimetype": "text/x-python",
   "name": "python",
   "nbconvert_exporter": "python",
   "pygments_lexer": "ipython3",
   "version": "3.7.10"
  }
 },
 "nbformat": 4,
 "nbformat_minor": 5
}
